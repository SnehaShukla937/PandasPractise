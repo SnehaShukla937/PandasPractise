{
 "cells": [
  {
   "cell_type": "markdown",
   "metadata": {},
   "source": [
    "# Pandas:\n",
    "\n",
    "### A python lib. which is used for data manipulation, data analysis and data cleaning."
   ]
  },
  {
   "cell_type": "markdown",
   "metadata": {},
   "source": [
    "### use of pandas: recommendation system, economics, stock prediction, neuroscience,statistics,analytics etc."
   ]
  },
  {
   "cell_type": "markdown",
   "metadata": {},
   "source": [
    "### DataFrame: 2-d, mutable size, heterogeneous tabular data. Contains labeled axes (rows,col),in which we can perform arithmetic operation as well.\n",
    "\n",
    "\n",
    "### Series: 1-d array, capable of holding data of any type."
   ]
  },
  {
   "cell_type": "code",
   "execution_count": 2,
   "metadata": {},
   "outputs": [],
   "source": [
    "import pandas as pd\n",
    "import numpy as np"
   ]
  },
  {
   "cell_type": "code",
   "execution_count": 3,
   "metadata": {},
   "outputs": [],
   "source": [
    "s = pd.Series([1,2,3,4,np.nan,7,8,9]) # series"
   ]
  },
  {
   "cell_type": "code",
   "execution_count": 4,
   "metadata": {},
   "outputs": [
    {
     "data": {
      "text/plain": [
       "0    1.0\n",
       "1    2.0\n",
       "2    3.0\n",
       "3    4.0\n",
       "4    NaN\n",
       "5    7.0\n",
       "6    8.0\n",
       "7    9.0\n",
       "dtype: float64"
      ]
     },
     "execution_count": 4,
     "metadata": {},
     "output_type": "execute_result"
    }
   ],
   "source": [
    "s"
   ]
  },
  {
   "cell_type": "code",
   "execution_count": 5,
   "metadata": {},
   "outputs": [],
   "source": [
    "d = pd.date_range('20200525',periods = 10) # getting date range"
   ]
  },
  {
   "cell_type": "code",
   "execution_count": 6,
   "metadata": {},
   "outputs": [
    {
     "data": {
      "text/plain": [
       "DatetimeIndex(['2020-05-25', '2020-05-26', '2020-05-27', '2020-05-28',\n",
       "               '2020-05-29', '2020-05-30', '2020-05-31', '2020-06-01',\n",
       "               '2020-06-02', '2020-06-03'],\n",
       "              dtype='datetime64[ns]', freq='D')"
      ]
     },
     "execution_count": 6,
     "metadata": {},
     "output_type": "execute_result"
    }
   ],
   "source": [
    "d"
   ]
  },
  {
   "cell_type": "code",
   "execution_count": 7,
   "metadata": {},
   "outputs": [],
   "source": [
    "df = pd.DataFrame(np.random.randn(10,4),index = d,columns = ['A','B','C','D']) # dataframe"
   ]
  },
  {
   "cell_type": "code",
   "execution_count": 8,
   "metadata": {},
   "outputs": [
    {
     "data": {
      "text/html": [
       "<div>\n",
       "<style scoped>\n",
       "    .dataframe tbody tr th:only-of-type {\n",
       "        vertical-align: middle;\n",
       "    }\n",
       "\n",
       "    .dataframe tbody tr th {\n",
       "        vertical-align: top;\n",
       "    }\n",
       "\n",
       "    .dataframe thead th {\n",
       "        text-align: right;\n",
       "    }\n",
       "</style>\n",
       "<table border=\"1\" class=\"dataframe\">\n",
       "  <thead>\n",
       "    <tr style=\"text-align: right;\">\n",
       "      <th></th>\n",
       "      <th>A</th>\n",
       "      <th>B</th>\n",
       "      <th>C</th>\n",
       "      <th>D</th>\n",
       "    </tr>\n",
       "  </thead>\n",
       "  <tbody>\n",
       "    <tr>\n",
       "      <th>2020-05-25</th>\n",
       "      <td>0.991981</td>\n",
       "      <td>1.615888</td>\n",
       "      <td>-0.296997</td>\n",
       "      <td>-0.400111</td>\n",
       "    </tr>\n",
       "    <tr>\n",
       "      <th>2020-05-26</th>\n",
       "      <td>0.768326</td>\n",
       "      <td>0.300476</td>\n",
       "      <td>-1.553762</td>\n",
       "      <td>-0.224009</td>\n",
       "    </tr>\n",
       "    <tr>\n",
       "      <th>2020-05-27</th>\n",
       "      <td>-0.673708</td>\n",
       "      <td>0.141254</td>\n",
       "      <td>-0.729661</td>\n",
       "      <td>0.500395</td>\n",
       "    </tr>\n",
       "    <tr>\n",
       "      <th>2020-05-28</th>\n",
       "      <td>0.650358</td>\n",
       "      <td>0.283608</td>\n",
       "      <td>1.391745</td>\n",
       "      <td>-0.374394</td>\n",
       "    </tr>\n",
       "    <tr>\n",
       "      <th>2020-05-29</th>\n",
       "      <td>-0.763201</td>\n",
       "      <td>-0.845664</td>\n",
       "      <td>0.519668</td>\n",
       "      <td>0.876082</td>\n",
       "    </tr>\n",
       "    <tr>\n",
       "      <th>2020-05-30</th>\n",
       "      <td>-0.353572</td>\n",
       "      <td>-0.297080</td>\n",
       "      <td>0.258634</td>\n",
       "      <td>1.657337</td>\n",
       "    </tr>\n",
       "    <tr>\n",
       "      <th>2020-05-31</th>\n",
       "      <td>-0.323465</td>\n",
       "      <td>-1.044875</td>\n",
       "      <td>-1.189846</td>\n",
       "      <td>1.165950</td>\n",
       "    </tr>\n",
       "    <tr>\n",
       "      <th>2020-06-01</th>\n",
       "      <td>-1.030814</td>\n",
       "      <td>-0.133547</td>\n",
       "      <td>1.208483</td>\n",
       "      <td>0.018312</td>\n",
       "    </tr>\n",
       "    <tr>\n",
       "      <th>2020-06-02</th>\n",
       "      <td>0.692838</td>\n",
       "      <td>-0.621512</td>\n",
       "      <td>-0.177550</td>\n",
       "      <td>-0.728433</td>\n",
       "    </tr>\n",
       "    <tr>\n",
       "      <th>2020-06-03</th>\n",
       "      <td>0.938457</td>\n",
       "      <td>0.293652</td>\n",
       "      <td>-1.635967</td>\n",
       "      <td>0.157466</td>\n",
       "    </tr>\n",
       "  </tbody>\n",
       "</table>\n",
       "</div>"
      ],
      "text/plain": [
       "                   A         B         C         D\n",
       "2020-05-25  0.991981  1.615888 -0.296997 -0.400111\n",
       "2020-05-26  0.768326  0.300476 -1.553762 -0.224009\n",
       "2020-05-27 -0.673708  0.141254 -0.729661  0.500395\n",
       "2020-05-28  0.650358  0.283608  1.391745 -0.374394\n",
       "2020-05-29 -0.763201 -0.845664  0.519668  0.876082\n",
       "2020-05-30 -0.353572 -0.297080  0.258634  1.657337\n",
       "2020-05-31 -0.323465 -1.044875 -1.189846  1.165950\n",
       "2020-06-01 -1.030814 -0.133547  1.208483  0.018312\n",
       "2020-06-02  0.692838 -0.621512 -0.177550 -0.728433\n",
       "2020-06-03  0.938457  0.293652 -1.635967  0.157466"
      ]
     },
     "execution_count": 8,
     "metadata": {},
     "output_type": "execute_result"
    }
   ],
   "source": [
    "df"
   ]
  },
  {
   "cell_type": "code",
   "execution_count": 9,
   "metadata": {},
   "outputs": [],
   "source": [
    "df1 = pd.DataFrame({'A':[1,2,3,4],                                                 # creating df using dict\n",
    "                   'B':pd.Timestamp('20200525'),\n",
    "                   'C':pd.Series(1,index = list(range(4)),dtype = 'float32'),\n",
    "                   'D':np.array([5]*4,dtype = 'int32'),\n",
    "                   'E':pd.Categorical(['true','false','true','false']),\n",
    "                   'F':'Edureka'})"
   ]
  },
  {
   "cell_type": "code",
   "execution_count": 10,
   "metadata": {},
   "outputs": [
    {
     "data": {
      "text/html": [
       "<div>\n",
       "<style scoped>\n",
       "    .dataframe tbody tr th:only-of-type {\n",
       "        vertical-align: middle;\n",
       "    }\n",
       "\n",
       "    .dataframe tbody tr th {\n",
       "        vertical-align: top;\n",
       "    }\n",
       "\n",
       "    .dataframe thead th {\n",
       "        text-align: right;\n",
       "    }\n",
       "</style>\n",
       "<table border=\"1\" class=\"dataframe\">\n",
       "  <thead>\n",
       "    <tr style=\"text-align: right;\">\n",
       "      <th></th>\n",
       "      <th>A</th>\n",
       "      <th>B</th>\n",
       "      <th>C</th>\n",
       "      <th>D</th>\n",
       "      <th>E</th>\n",
       "      <th>F</th>\n",
       "    </tr>\n",
       "  </thead>\n",
       "  <tbody>\n",
       "    <tr>\n",
       "      <th>0</th>\n",
       "      <td>1</td>\n",
       "      <td>2020-05-25</td>\n",
       "      <td>1.0</td>\n",
       "      <td>5</td>\n",
       "      <td>true</td>\n",
       "      <td>Edureka</td>\n",
       "    </tr>\n",
       "    <tr>\n",
       "      <th>1</th>\n",
       "      <td>2</td>\n",
       "      <td>2020-05-25</td>\n",
       "      <td>1.0</td>\n",
       "      <td>5</td>\n",
       "      <td>false</td>\n",
       "      <td>Edureka</td>\n",
       "    </tr>\n",
       "    <tr>\n",
       "      <th>2</th>\n",
       "      <td>3</td>\n",
       "      <td>2020-05-25</td>\n",
       "      <td>1.0</td>\n",
       "      <td>5</td>\n",
       "      <td>true</td>\n",
       "      <td>Edureka</td>\n",
       "    </tr>\n",
       "    <tr>\n",
       "      <th>3</th>\n",
       "      <td>4</td>\n",
       "      <td>2020-05-25</td>\n",
       "      <td>1.0</td>\n",
       "      <td>5</td>\n",
       "      <td>false</td>\n",
       "      <td>Edureka</td>\n",
       "    </tr>\n",
       "  </tbody>\n",
       "</table>\n",
       "</div>"
      ],
      "text/plain": [
       "   A          B    C  D      E        F\n",
       "0  1 2020-05-25  1.0  5   true  Edureka\n",
       "1  2 2020-05-25  1.0  5  false  Edureka\n",
       "2  3 2020-05-25  1.0  5   true  Edureka\n",
       "3  4 2020-05-25  1.0  5  false  Edureka"
      ]
     },
     "execution_count": 10,
     "metadata": {},
     "output_type": "execute_result"
    }
   ],
   "source": [
    "df1 "
   ]
  },
  {
   "cell_type": "code",
   "execution_count": 11,
   "metadata": {},
   "outputs": [
    {
     "data": {
      "text/plain": [
       "A             int64\n",
       "B    datetime64[ns]\n",
       "C           float32\n",
       "D             int32\n",
       "E          category\n",
       "F            object\n",
       "dtype: object"
      ]
     },
     "execution_count": 11,
     "metadata": {},
     "output_type": "execute_result"
    }
   ],
   "source": [
    "df1.dtypes"
   ]
  },
  {
   "cell_type": "markdown",
   "metadata": {},
   "source": [
    "## How to view data ?"
   ]
  },
  {
   "cell_type": "code",
   "execution_count": 12,
   "metadata": {},
   "outputs": [
    {
     "data": {
      "text/html": [
       "<div>\n",
       "<style scoped>\n",
       "    .dataframe tbody tr th:only-of-type {\n",
       "        vertical-align: middle;\n",
       "    }\n",
       "\n",
       "    .dataframe tbody tr th {\n",
       "        vertical-align: top;\n",
       "    }\n",
       "\n",
       "    .dataframe thead th {\n",
       "        text-align: right;\n",
       "    }\n",
       "</style>\n",
       "<table border=\"1\" class=\"dataframe\">\n",
       "  <thead>\n",
       "    <tr style=\"text-align: right;\">\n",
       "      <th></th>\n",
       "      <th>A</th>\n",
       "      <th>B</th>\n",
       "      <th>C</th>\n",
       "      <th>D</th>\n",
       "    </tr>\n",
       "  </thead>\n",
       "  <tbody>\n",
       "    <tr>\n",
       "      <th>2020-05-25</th>\n",
       "      <td>0.991981</td>\n",
       "      <td>1.615888</td>\n",
       "      <td>-0.296997</td>\n",
       "      <td>-0.400111</td>\n",
       "    </tr>\n",
       "    <tr>\n",
       "      <th>2020-05-26</th>\n",
       "      <td>0.768326</td>\n",
       "      <td>0.300476</td>\n",
       "      <td>-1.553762</td>\n",
       "      <td>-0.224009</td>\n",
       "    </tr>\n",
       "    <tr>\n",
       "      <th>2020-05-27</th>\n",
       "      <td>-0.673708</td>\n",
       "      <td>0.141254</td>\n",
       "      <td>-0.729661</td>\n",
       "      <td>0.500395</td>\n",
       "    </tr>\n",
       "    <tr>\n",
       "      <th>2020-05-28</th>\n",
       "      <td>0.650358</td>\n",
       "      <td>0.283608</td>\n",
       "      <td>1.391745</td>\n",
       "      <td>-0.374394</td>\n",
       "    </tr>\n",
       "    <tr>\n",
       "      <th>2020-05-29</th>\n",
       "      <td>-0.763201</td>\n",
       "      <td>-0.845664</td>\n",
       "      <td>0.519668</td>\n",
       "      <td>0.876082</td>\n",
       "    </tr>\n",
       "  </tbody>\n",
       "</table>\n",
       "</div>"
      ],
      "text/plain": [
       "                   A         B         C         D\n",
       "2020-05-25  0.991981  1.615888 -0.296997 -0.400111\n",
       "2020-05-26  0.768326  0.300476 -1.553762 -0.224009\n",
       "2020-05-27 -0.673708  0.141254 -0.729661  0.500395\n",
       "2020-05-28  0.650358  0.283608  1.391745 -0.374394\n",
       "2020-05-29 -0.763201 -0.845664  0.519668  0.876082"
      ]
     },
     "execution_count": 12,
     "metadata": {},
     "output_type": "execute_result"
    }
   ],
   "source": [
    "df.head() # first 5 value"
   ]
  },
  {
   "cell_type": "code",
   "execution_count": 13,
   "metadata": {},
   "outputs": [
    {
     "data": {
      "text/html": [
       "<div>\n",
       "<style scoped>\n",
       "    .dataframe tbody tr th:only-of-type {\n",
       "        vertical-align: middle;\n",
       "    }\n",
       "\n",
       "    .dataframe tbody tr th {\n",
       "        vertical-align: top;\n",
       "    }\n",
       "\n",
       "    .dataframe thead th {\n",
       "        text-align: right;\n",
       "    }\n",
       "</style>\n",
       "<table border=\"1\" class=\"dataframe\">\n",
       "  <thead>\n",
       "    <tr style=\"text-align: right;\">\n",
       "      <th></th>\n",
       "      <th>A</th>\n",
       "      <th>B</th>\n",
       "      <th>C</th>\n",
       "      <th>D</th>\n",
       "    </tr>\n",
       "  </thead>\n",
       "  <tbody>\n",
       "    <tr>\n",
       "      <th>2020-05-30</th>\n",
       "      <td>-0.353572</td>\n",
       "      <td>-0.297080</td>\n",
       "      <td>0.258634</td>\n",
       "      <td>1.657337</td>\n",
       "    </tr>\n",
       "    <tr>\n",
       "      <th>2020-05-31</th>\n",
       "      <td>-0.323465</td>\n",
       "      <td>-1.044875</td>\n",
       "      <td>-1.189846</td>\n",
       "      <td>1.165950</td>\n",
       "    </tr>\n",
       "    <tr>\n",
       "      <th>2020-06-01</th>\n",
       "      <td>-1.030814</td>\n",
       "      <td>-0.133547</td>\n",
       "      <td>1.208483</td>\n",
       "      <td>0.018312</td>\n",
       "    </tr>\n",
       "    <tr>\n",
       "      <th>2020-06-02</th>\n",
       "      <td>0.692838</td>\n",
       "      <td>-0.621512</td>\n",
       "      <td>-0.177550</td>\n",
       "      <td>-0.728433</td>\n",
       "    </tr>\n",
       "    <tr>\n",
       "      <th>2020-06-03</th>\n",
       "      <td>0.938457</td>\n",
       "      <td>0.293652</td>\n",
       "      <td>-1.635967</td>\n",
       "      <td>0.157466</td>\n",
       "    </tr>\n",
       "  </tbody>\n",
       "</table>\n",
       "</div>"
      ],
      "text/plain": [
       "                   A         B         C         D\n",
       "2020-05-30 -0.353572 -0.297080  0.258634  1.657337\n",
       "2020-05-31 -0.323465 -1.044875 -1.189846  1.165950\n",
       "2020-06-01 -1.030814 -0.133547  1.208483  0.018312\n",
       "2020-06-02  0.692838 -0.621512 -0.177550 -0.728433\n",
       "2020-06-03  0.938457  0.293652 -1.635967  0.157466"
      ]
     },
     "execution_count": 13,
     "metadata": {},
     "output_type": "execute_result"
    }
   ],
   "source": [
    "df.tail() # last 5 value"
   ]
  },
  {
   "cell_type": "code",
   "execution_count": 14,
   "metadata": {},
   "outputs": [
    {
     "data": {
      "text/plain": [
       "DatetimeIndex(['2020-05-25', '2020-05-26', '2020-05-27', '2020-05-28',\n",
       "               '2020-05-29', '2020-05-30', '2020-05-31', '2020-06-01',\n",
       "               '2020-06-02', '2020-06-03'],\n",
       "              dtype='datetime64[ns]', freq='D')"
      ]
     },
     "execution_count": 14,
     "metadata": {},
     "output_type": "execute_result"
    }
   ],
   "source": [
    "df.index # get index"
   ]
  },
  {
   "cell_type": "code",
   "execution_count": 15,
   "metadata": {},
   "outputs": [
    {
     "data": {
      "text/plain": [
       "Index(['A', 'B', 'C', 'D'], dtype='object')"
      ]
     },
     "execution_count": 15,
     "metadata": {},
     "output_type": "execute_result"
    }
   ],
   "source": [
    "df.columns # get columns"
   ]
  },
  {
   "cell_type": "code",
   "execution_count": 16,
   "metadata": {},
   "outputs": [
    {
     "data": {
      "text/plain": [
       "array([[ 0.99198149,  1.61588803, -0.29699726, -0.40011107],\n",
       "       [ 0.76832569,  0.30047631, -1.55376152, -0.22400944],\n",
       "       [-0.67370819,  0.1412542 , -0.72966066,  0.50039463],\n",
       "       [ 0.65035773,  0.28360776,  1.39174505, -0.374394  ],\n",
       "       [-0.76320117, -0.84566395,  0.51966807,  0.87608208],\n",
       "       [-0.35357156, -0.29707954,  0.25863427,  1.65733707],\n",
       "       [-0.32346514, -1.04487463, -1.18984579,  1.16594952],\n",
       "       [-1.03081379, -0.13354681,  1.20848274,  0.01831249],\n",
       "       [ 0.69283836, -0.6215123 , -0.17754993, -0.72843268],\n",
       "       [ 0.93845675,  0.2936515 , -1.63596665,  0.15746579]])"
      ]
     },
     "execution_count": 16,
     "metadata": {},
     "output_type": "execute_result"
    }
   ],
   "source": [
    "df.to_numpy()  # creating np array from pd (fast)"
   ]
  },
  {
   "cell_type": "code",
   "execution_count": 17,
   "metadata": {},
   "outputs": [
    {
     "data": {
      "text/html": [
       "<div>\n",
       "<style scoped>\n",
       "    .dataframe tbody tr th:only-of-type {\n",
       "        vertical-align: middle;\n",
       "    }\n",
       "\n",
       "    .dataframe tbody tr th {\n",
       "        vertical-align: top;\n",
       "    }\n",
       "\n",
       "    .dataframe thead th {\n",
       "        text-align: right;\n",
       "    }\n",
       "</style>\n",
       "<table border=\"1\" class=\"dataframe\">\n",
       "  <thead>\n",
       "    <tr style=\"text-align: right;\">\n",
       "      <th></th>\n",
       "      <th>A</th>\n",
       "      <th>B</th>\n",
       "      <th>C</th>\n",
       "      <th>D</th>\n",
       "    </tr>\n",
       "  </thead>\n",
       "  <tbody>\n",
       "    <tr>\n",
       "      <th>count</th>\n",
       "      <td>10.000000</td>\n",
       "      <td>10.000000</td>\n",
       "      <td>10.000000</td>\n",
       "      <td>10.000000</td>\n",
       "    </tr>\n",
       "    <tr>\n",
       "      <th>mean</th>\n",
       "      <td>0.089720</td>\n",
       "      <td>-0.030780</td>\n",
       "      <td>-0.220525</td>\n",
       "      <td>0.264859</td>\n",
       "    </tr>\n",
       "    <tr>\n",
       "      <th>std</th>\n",
       "      <td>0.789242</td>\n",
       "      <td>0.758493</td>\n",
       "      <td>1.075301</td>\n",
       "      <td>0.769473</td>\n",
       "    </tr>\n",
       "    <tr>\n",
       "      <th>min</th>\n",
       "      <td>-1.030814</td>\n",
       "      <td>-1.044875</td>\n",
       "      <td>-1.635967</td>\n",
       "      <td>-0.728433</td>\n",
       "    </tr>\n",
       "    <tr>\n",
       "      <th>25%</th>\n",
       "      <td>-0.593674</td>\n",
       "      <td>-0.540404</td>\n",
       "      <td>-1.074800</td>\n",
       "      <td>-0.336798</td>\n",
       "    </tr>\n",
       "    <tr>\n",
       "      <th>50%</th>\n",
       "      <td>0.163446</td>\n",
       "      <td>0.003854</td>\n",
       "      <td>-0.237274</td>\n",
       "      <td>0.087889</td>\n",
       "    </tr>\n",
       "    <tr>\n",
       "      <th>75%</th>\n",
       "      <td>0.749454</td>\n",
       "      <td>0.291141</td>\n",
       "      <td>0.454410</td>\n",
       "      <td>0.782160</td>\n",
       "    </tr>\n",
       "    <tr>\n",
       "      <th>max</th>\n",
       "      <td>0.991981</td>\n",
       "      <td>1.615888</td>\n",
       "      <td>1.391745</td>\n",
       "      <td>1.657337</td>\n",
       "    </tr>\n",
       "  </tbody>\n",
       "</table>\n",
       "</div>"
      ],
      "text/plain": [
       "               A          B          C          D\n",
       "count  10.000000  10.000000  10.000000  10.000000\n",
       "mean    0.089720  -0.030780  -0.220525   0.264859\n",
       "std     0.789242   0.758493   1.075301   0.769473\n",
       "min    -1.030814  -1.044875  -1.635967  -0.728433\n",
       "25%    -0.593674  -0.540404  -1.074800  -0.336798\n",
       "50%     0.163446   0.003854  -0.237274   0.087889\n",
       "75%     0.749454   0.291141   0.454410   0.782160\n",
       "max     0.991981   1.615888   1.391745   1.657337"
      ]
     },
     "execution_count": 17,
     "metadata": {},
     "output_type": "execute_result"
    }
   ],
   "source": [
    "df.describe() # short describing data"
   ]
  },
  {
   "cell_type": "code",
   "execution_count": 18,
   "metadata": {},
   "outputs": [
    {
     "data": {
      "text/html": [
       "<div>\n",
       "<style scoped>\n",
       "    .dataframe tbody tr th:only-of-type {\n",
       "        vertical-align: middle;\n",
       "    }\n",
       "\n",
       "    .dataframe tbody tr th {\n",
       "        vertical-align: top;\n",
       "    }\n",
       "\n",
       "    .dataframe thead th {\n",
       "        text-align: right;\n",
       "    }\n",
       "</style>\n",
       "<table border=\"1\" class=\"dataframe\">\n",
       "  <thead>\n",
       "    <tr style=\"text-align: right;\">\n",
       "      <th></th>\n",
       "      <th>D</th>\n",
       "      <th>C</th>\n",
       "      <th>B</th>\n",
       "      <th>A</th>\n",
       "    </tr>\n",
       "  </thead>\n",
       "  <tbody>\n",
       "    <tr>\n",
       "      <th>2020-05-25</th>\n",
       "      <td>-0.400111</td>\n",
       "      <td>-0.296997</td>\n",
       "      <td>1.615888</td>\n",
       "      <td>0.991981</td>\n",
       "    </tr>\n",
       "    <tr>\n",
       "      <th>2020-05-26</th>\n",
       "      <td>-0.224009</td>\n",
       "      <td>-1.553762</td>\n",
       "      <td>0.300476</td>\n",
       "      <td>0.768326</td>\n",
       "    </tr>\n",
       "    <tr>\n",
       "      <th>2020-05-27</th>\n",
       "      <td>0.500395</td>\n",
       "      <td>-0.729661</td>\n",
       "      <td>0.141254</td>\n",
       "      <td>-0.673708</td>\n",
       "    </tr>\n",
       "    <tr>\n",
       "      <th>2020-05-28</th>\n",
       "      <td>-0.374394</td>\n",
       "      <td>1.391745</td>\n",
       "      <td>0.283608</td>\n",
       "      <td>0.650358</td>\n",
       "    </tr>\n",
       "    <tr>\n",
       "      <th>2020-05-29</th>\n",
       "      <td>0.876082</td>\n",
       "      <td>0.519668</td>\n",
       "      <td>-0.845664</td>\n",
       "      <td>-0.763201</td>\n",
       "    </tr>\n",
       "    <tr>\n",
       "      <th>2020-05-30</th>\n",
       "      <td>1.657337</td>\n",
       "      <td>0.258634</td>\n",
       "      <td>-0.297080</td>\n",
       "      <td>-0.353572</td>\n",
       "    </tr>\n",
       "    <tr>\n",
       "      <th>2020-05-31</th>\n",
       "      <td>1.165950</td>\n",
       "      <td>-1.189846</td>\n",
       "      <td>-1.044875</td>\n",
       "      <td>-0.323465</td>\n",
       "    </tr>\n",
       "    <tr>\n",
       "      <th>2020-06-01</th>\n",
       "      <td>0.018312</td>\n",
       "      <td>1.208483</td>\n",
       "      <td>-0.133547</td>\n",
       "      <td>-1.030814</td>\n",
       "    </tr>\n",
       "    <tr>\n",
       "      <th>2020-06-02</th>\n",
       "      <td>-0.728433</td>\n",
       "      <td>-0.177550</td>\n",
       "      <td>-0.621512</td>\n",
       "      <td>0.692838</td>\n",
       "    </tr>\n",
       "    <tr>\n",
       "      <th>2020-06-03</th>\n",
       "      <td>0.157466</td>\n",
       "      <td>-1.635967</td>\n",
       "      <td>0.293652</td>\n",
       "      <td>0.938457</td>\n",
       "    </tr>\n",
       "  </tbody>\n",
       "</table>\n",
       "</div>"
      ],
      "text/plain": [
       "                   D         C         B         A\n",
       "2020-05-25 -0.400111 -0.296997  1.615888  0.991981\n",
       "2020-05-26 -0.224009 -1.553762  0.300476  0.768326\n",
       "2020-05-27  0.500395 -0.729661  0.141254 -0.673708\n",
       "2020-05-28 -0.374394  1.391745  0.283608  0.650358\n",
       "2020-05-29  0.876082  0.519668 -0.845664 -0.763201\n",
       "2020-05-30  1.657337  0.258634 -0.297080 -0.353572\n",
       "2020-05-31  1.165950 -1.189846 -1.044875 -0.323465\n",
       "2020-06-01  0.018312  1.208483 -0.133547 -1.030814\n",
       "2020-06-02 -0.728433 -0.177550 -0.621512  0.692838\n",
       "2020-06-03  0.157466 -1.635967  0.293652  0.938457"
      ]
     },
     "execution_count": 18,
     "metadata": {},
     "output_type": "execute_result"
    }
   ],
   "source": [
    "df.sort_index(axis = 1,ascending = False)  # sorting the column or index"
   ]
  },
  {
   "cell_type": "code",
   "execution_count": 19,
   "metadata": {},
   "outputs": [
    {
     "data": {
      "text/html": [
       "<div>\n",
       "<style scoped>\n",
       "    .dataframe tbody tr th:only-of-type {\n",
       "        vertical-align: middle;\n",
       "    }\n",
       "\n",
       "    .dataframe tbody tr th {\n",
       "        vertical-align: top;\n",
       "    }\n",
       "\n",
       "    .dataframe thead th {\n",
       "        text-align: right;\n",
       "    }\n",
       "</style>\n",
       "<table border=\"1\" class=\"dataframe\">\n",
       "  <thead>\n",
       "    <tr style=\"text-align: right;\">\n",
       "      <th></th>\n",
       "      <th>A</th>\n",
       "      <th>B</th>\n",
       "      <th>C</th>\n",
       "      <th>D</th>\n",
       "    </tr>\n",
       "  </thead>\n",
       "  <tbody>\n",
       "    <tr>\n",
       "      <th>2020-06-03</th>\n",
       "      <td>0.938457</td>\n",
       "      <td>0.293652</td>\n",
       "      <td>-1.635967</td>\n",
       "      <td>0.157466</td>\n",
       "    </tr>\n",
       "    <tr>\n",
       "      <th>2020-05-26</th>\n",
       "      <td>0.768326</td>\n",
       "      <td>0.300476</td>\n",
       "      <td>-1.553762</td>\n",
       "      <td>-0.224009</td>\n",
       "    </tr>\n",
       "    <tr>\n",
       "      <th>2020-05-31</th>\n",
       "      <td>-0.323465</td>\n",
       "      <td>-1.044875</td>\n",
       "      <td>-1.189846</td>\n",
       "      <td>1.165950</td>\n",
       "    </tr>\n",
       "    <tr>\n",
       "      <th>2020-05-27</th>\n",
       "      <td>-0.673708</td>\n",
       "      <td>0.141254</td>\n",
       "      <td>-0.729661</td>\n",
       "      <td>0.500395</td>\n",
       "    </tr>\n",
       "    <tr>\n",
       "      <th>2020-05-25</th>\n",
       "      <td>0.991981</td>\n",
       "      <td>1.615888</td>\n",
       "      <td>-0.296997</td>\n",
       "      <td>-0.400111</td>\n",
       "    </tr>\n",
       "    <tr>\n",
       "      <th>2020-06-02</th>\n",
       "      <td>0.692838</td>\n",
       "      <td>-0.621512</td>\n",
       "      <td>-0.177550</td>\n",
       "      <td>-0.728433</td>\n",
       "    </tr>\n",
       "    <tr>\n",
       "      <th>2020-05-30</th>\n",
       "      <td>-0.353572</td>\n",
       "      <td>-0.297080</td>\n",
       "      <td>0.258634</td>\n",
       "      <td>1.657337</td>\n",
       "    </tr>\n",
       "    <tr>\n",
       "      <th>2020-05-29</th>\n",
       "      <td>-0.763201</td>\n",
       "      <td>-0.845664</td>\n",
       "      <td>0.519668</td>\n",
       "      <td>0.876082</td>\n",
       "    </tr>\n",
       "    <tr>\n",
       "      <th>2020-06-01</th>\n",
       "      <td>-1.030814</td>\n",
       "      <td>-0.133547</td>\n",
       "      <td>1.208483</td>\n",
       "      <td>0.018312</td>\n",
       "    </tr>\n",
       "    <tr>\n",
       "      <th>2020-05-28</th>\n",
       "      <td>0.650358</td>\n",
       "      <td>0.283608</td>\n",
       "      <td>1.391745</td>\n",
       "      <td>-0.374394</td>\n",
       "    </tr>\n",
       "  </tbody>\n",
       "</table>\n",
       "</div>"
      ],
      "text/plain": [
       "                   A         B         C         D\n",
       "2020-06-03  0.938457  0.293652 -1.635967  0.157466\n",
       "2020-05-26  0.768326  0.300476 -1.553762 -0.224009\n",
       "2020-05-31 -0.323465 -1.044875 -1.189846  1.165950\n",
       "2020-05-27 -0.673708  0.141254 -0.729661  0.500395\n",
       "2020-05-25  0.991981  1.615888 -0.296997 -0.400111\n",
       "2020-06-02  0.692838 -0.621512 -0.177550 -0.728433\n",
       "2020-05-30 -0.353572 -0.297080  0.258634  1.657337\n",
       "2020-05-29 -0.763201 -0.845664  0.519668  0.876082\n",
       "2020-06-01 -1.030814 -0.133547  1.208483  0.018312\n",
       "2020-05-28  0.650358  0.283608  1.391745 -0.374394"
      ]
     },
     "execution_count": 19,
     "metadata": {},
     "output_type": "execute_result"
    }
   ],
   "source": [
    "df.sort_values(by = 'C',ascending = True) # sort all values by index 'C'"
   ]
  },
  {
   "cell_type": "code",
   "execution_count": 20,
   "metadata": {},
   "outputs": [
    {
     "data": {
      "text/plain": [
       "2020-05-25   -0.400111\n",
       "2020-05-26   -0.224009\n",
       "2020-05-27    0.500395\n",
       "2020-05-28   -0.374394\n",
       "2020-05-29    0.876082\n",
       "2020-05-30    1.657337\n",
       "2020-05-31    1.165950\n",
       "2020-06-01    0.018312\n",
       "2020-06-02   -0.728433\n",
       "2020-06-03    0.157466\n",
       "Freq: D, Name: D, dtype: float64"
      ]
     },
     "execution_count": 20,
     "metadata": {},
     "output_type": "execute_result"
    }
   ],
   "source": [
    "df['D'] # get single column from df"
   ]
  },
  {
   "cell_type": "code",
   "execution_count": 21,
   "metadata": {},
   "outputs": [
    {
     "data": {
      "text/html": [
       "<div>\n",
       "<style scoped>\n",
       "    .dataframe tbody tr th:only-of-type {\n",
       "        vertical-align: middle;\n",
       "    }\n",
       "\n",
       "    .dataframe tbody tr th {\n",
       "        vertical-align: top;\n",
       "    }\n",
       "\n",
       "    .dataframe thead th {\n",
       "        text-align: right;\n",
       "    }\n",
       "</style>\n",
       "<table border=\"1\" class=\"dataframe\">\n",
       "  <thead>\n",
       "    <tr style=\"text-align: right;\">\n",
       "      <th></th>\n",
       "      <th>A</th>\n",
       "      <th>B</th>\n",
       "      <th>C</th>\n",
       "      <th>D</th>\n",
       "    </tr>\n",
       "  </thead>\n",
       "  <tbody>\n",
       "    <tr>\n",
       "      <th>2020-05-25</th>\n",
       "      <td>0.991981</td>\n",
       "      <td>1.615888</td>\n",
       "      <td>-0.296997</td>\n",
       "      <td>-0.400111</td>\n",
       "    </tr>\n",
       "    <tr>\n",
       "      <th>2020-05-26</th>\n",
       "      <td>0.768326</td>\n",
       "      <td>0.300476</td>\n",
       "      <td>-1.553762</td>\n",
       "      <td>-0.224009</td>\n",
       "    </tr>\n",
       "    <tr>\n",
       "      <th>2020-05-27</th>\n",
       "      <td>-0.673708</td>\n",
       "      <td>0.141254</td>\n",
       "      <td>-0.729661</td>\n",
       "      <td>0.500395</td>\n",
       "    </tr>\n",
       "  </tbody>\n",
       "</table>\n",
       "</div>"
      ],
      "text/plain": [
       "                   A         B         C         D\n",
       "2020-05-25  0.991981  1.615888 -0.296997 -0.400111\n",
       "2020-05-26  0.768326  0.300476 -1.553762 -0.224009\n",
       "2020-05-27 -0.673708  0.141254 -0.729661  0.500395"
      ]
     },
     "execution_count": 21,
     "metadata": {},
     "output_type": "execute_result"
    }
   ],
   "source": [
    "df[0:3]  # get data rowwise"
   ]
  },
  {
   "cell_type": "code",
   "execution_count": 22,
   "metadata": {},
   "outputs": [
    {
     "data": {
      "text/html": [
       "<div>\n",
       "<style scoped>\n",
       "    .dataframe tbody tr th:only-of-type {\n",
       "        vertical-align: middle;\n",
       "    }\n",
       "\n",
       "    .dataframe tbody tr th {\n",
       "        vertical-align: top;\n",
       "    }\n",
       "\n",
       "    .dataframe thead th {\n",
       "        text-align: right;\n",
       "    }\n",
       "</style>\n",
       "<table border=\"1\" class=\"dataframe\">\n",
       "  <thead>\n",
       "    <tr style=\"text-align: right;\">\n",
       "      <th></th>\n",
       "      <th>A</th>\n",
       "      <th>B</th>\n",
       "      <th>C</th>\n",
       "      <th>D</th>\n",
       "    </tr>\n",
       "  </thead>\n",
       "  <tbody>\n",
       "    <tr>\n",
       "      <th>2020-05-27</th>\n",
       "      <td>-0.673708</td>\n",
       "      <td>0.141254</td>\n",
       "      <td>-0.729661</td>\n",
       "      <td>0.500395</td>\n",
       "    </tr>\n",
       "    <tr>\n",
       "      <th>2020-05-28</th>\n",
       "      <td>0.650358</td>\n",
       "      <td>0.283608</td>\n",
       "      <td>1.391745</td>\n",
       "      <td>-0.374394</td>\n",
       "    </tr>\n",
       "    <tr>\n",
       "      <th>2020-05-29</th>\n",
       "      <td>-0.763201</td>\n",
       "      <td>-0.845664</td>\n",
       "      <td>0.519668</td>\n",
       "      <td>0.876082</td>\n",
       "    </tr>\n",
       "    <tr>\n",
       "      <th>2020-05-30</th>\n",
       "      <td>-0.353572</td>\n",
       "      <td>-0.297080</td>\n",
       "      <td>0.258634</td>\n",
       "      <td>1.657337</td>\n",
       "    </tr>\n",
       "  </tbody>\n",
       "</table>\n",
       "</div>"
      ],
      "text/plain": [
       "                   A         B         C         D\n",
       "2020-05-27 -0.673708  0.141254 -0.729661  0.500395\n",
       "2020-05-28  0.650358  0.283608  1.391745 -0.374394\n",
       "2020-05-29 -0.763201 -0.845664  0.519668  0.876082\n",
       "2020-05-30 -0.353572 -0.297080  0.258634  1.657337"
      ]
     },
     "execution_count": 22,
     "metadata": {},
     "output_type": "execute_result"
    }
   ],
   "source": [
    "df[2:6] # get data rowwise"
   ]
  },
  {
   "cell_type": "code",
   "execution_count": 23,
   "metadata": {},
   "outputs": [
    {
     "data": {
      "text/plain": [
       "A    0.991981\n",
       "B    1.615888\n",
       "C   -0.296997\n",
       "D   -0.400111\n",
       "Name: 2020-05-25 00:00:00, dtype: float64"
      ]
     },
     "execution_count": 23,
     "metadata": {},
     "output_type": "execute_result"
    }
   ],
   "source": [
    "df.loc[d[0]]  # get data location wise ...d --> label"
   ]
  },
  {
   "cell_type": "code",
   "execution_count": 24,
   "metadata": {},
   "outputs": [
    {
     "data": {
      "text/html": [
       "<div>\n",
       "<style scoped>\n",
       "    .dataframe tbody tr th:only-of-type {\n",
       "        vertical-align: middle;\n",
       "    }\n",
       "\n",
       "    .dataframe tbody tr th {\n",
       "        vertical-align: top;\n",
       "    }\n",
       "\n",
       "    .dataframe thead th {\n",
       "        text-align: right;\n",
       "    }\n",
       "</style>\n",
       "<table border=\"1\" class=\"dataframe\">\n",
       "  <thead>\n",
       "    <tr style=\"text-align: right;\">\n",
       "      <th></th>\n",
       "      <th>B</th>\n",
       "      <th>C</th>\n",
       "    </tr>\n",
       "  </thead>\n",
       "  <tbody>\n",
       "    <tr>\n",
       "      <th>2020-05-25</th>\n",
       "      <td>1.615888</td>\n",
       "      <td>-0.296997</td>\n",
       "    </tr>\n",
       "    <tr>\n",
       "      <th>2020-05-26</th>\n",
       "      <td>0.300476</td>\n",
       "      <td>-1.553762</td>\n",
       "    </tr>\n",
       "    <tr>\n",
       "      <th>2020-05-27</th>\n",
       "      <td>0.141254</td>\n",
       "      <td>-0.729661</td>\n",
       "    </tr>\n",
       "    <tr>\n",
       "      <th>2020-05-28</th>\n",
       "      <td>0.283608</td>\n",
       "      <td>1.391745</td>\n",
       "    </tr>\n",
       "    <tr>\n",
       "      <th>2020-05-29</th>\n",
       "      <td>-0.845664</td>\n",
       "      <td>0.519668</td>\n",
       "    </tr>\n",
       "    <tr>\n",
       "      <th>2020-05-30</th>\n",
       "      <td>-0.297080</td>\n",
       "      <td>0.258634</td>\n",
       "    </tr>\n",
       "    <tr>\n",
       "      <th>2020-05-31</th>\n",
       "      <td>-1.044875</td>\n",
       "      <td>-1.189846</td>\n",
       "    </tr>\n",
       "    <tr>\n",
       "      <th>2020-06-01</th>\n",
       "      <td>-0.133547</td>\n",
       "      <td>1.208483</td>\n",
       "    </tr>\n",
       "    <tr>\n",
       "      <th>2020-06-02</th>\n",
       "      <td>-0.621512</td>\n",
       "      <td>-0.177550</td>\n",
       "    </tr>\n",
       "    <tr>\n",
       "      <th>2020-06-03</th>\n",
       "      <td>0.293652</td>\n",
       "      <td>-1.635967</td>\n",
       "    </tr>\n",
       "  </tbody>\n",
       "</table>\n",
       "</div>"
      ],
      "text/plain": [
       "                   B         C\n",
       "2020-05-25  1.615888 -0.296997\n",
       "2020-05-26  0.300476 -1.553762\n",
       "2020-05-27  0.141254 -0.729661\n",
       "2020-05-28  0.283608  1.391745\n",
       "2020-05-29 -0.845664  0.519668\n",
       "2020-05-30 -0.297080  0.258634\n",
       "2020-05-31 -1.044875 -1.189846\n",
       "2020-06-01 -0.133547  1.208483\n",
       "2020-06-02 -0.621512 -0.177550\n",
       "2020-06-03  0.293652 -1.635967"
      ]
     },
     "execution_count": 24,
     "metadata": {},
     "output_type": "execute_result"
    }
   ],
   "source": [
    "df.loc[:,['B','C']] # get data on a multiaccess by label"
   ]
  },
  {
   "cell_type": "code",
   "execution_count": 25,
   "metadata": {},
   "outputs": [
    {
     "data": {
      "text/html": [
       "<div>\n",
       "<style scoped>\n",
       "    .dataframe tbody tr th:only-of-type {\n",
       "        vertical-align: middle;\n",
       "    }\n",
       "\n",
       "    .dataframe tbody tr th {\n",
       "        vertical-align: top;\n",
       "    }\n",
       "\n",
       "    .dataframe thead th {\n",
       "        text-align: right;\n",
       "    }\n",
       "</style>\n",
       "<table border=\"1\" class=\"dataframe\">\n",
       "  <thead>\n",
       "    <tr style=\"text-align: right;\">\n",
       "      <th></th>\n",
       "      <th>B</th>\n",
       "      <th>C</th>\n",
       "    </tr>\n",
       "  </thead>\n",
       "  <tbody>\n",
       "    <tr>\n",
       "      <th>2020-05-27</th>\n",
       "      <td>0.141254</td>\n",
       "      <td>-0.729661</td>\n",
       "    </tr>\n",
       "    <tr>\n",
       "      <th>2020-05-28</th>\n",
       "      <td>0.283608</td>\n",
       "      <td>1.391745</td>\n",
       "    </tr>\n",
       "    <tr>\n",
       "      <th>2020-05-29</th>\n",
       "      <td>-0.845664</td>\n",
       "      <td>0.519668</td>\n",
       "    </tr>\n",
       "    <tr>\n",
       "      <th>2020-05-30</th>\n",
       "      <td>-0.297080</td>\n",
       "      <td>0.258634</td>\n",
       "    </tr>\n",
       "    <tr>\n",
       "      <th>2020-05-31</th>\n",
       "      <td>-1.044875</td>\n",
       "      <td>-1.189846</td>\n",
       "    </tr>\n",
       "    <tr>\n",
       "      <th>2020-06-01</th>\n",
       "      <td>-0.133547</td>\n",
       "      <td>1.208483</td>\n",
       "    </tr>\n",
       "  </tbody>\n",
       "</table>\n",
       "</div>"
      ],
      "text/plain": [
       "                   B         C\n",
       "2020-05-27  0.141254 -0.729661\n",
       "2020-05-28  0.283608  1.391745\n",
       "2020-05-29 -0.845664  0.519668\n",
       "2020-05-30 -0.297080  0.258634\n",
       "2020-05-31 -1.044875 -1.189846\n",
       "2020-06-01 -0.133547  1.208483"
      ]
     },
     "execution_count": 25,
     "metadata": {},
     "output_type": "execute_result"
    }
   ],
   "source": [
    "df.loc['20200527':'20200601',['B','C']]  # get data by taking label range"
   ]
  },
  {
   "cell_type": "code",
   "execution_count": 26,
   "metadata": {},
   "outputs": [
    {
     "data": {
      "text/plain": [
       "B    1.615888\n",
       "C   -0.296997\n",
       "Name: 2020-05-25 00:00:00, dtype: float64"
      ]
     },
     "execution_count": 26,
     "metadata": {},
     "output_type": "execute_result"
    }
   ],
   "source": [
    "df.loc['20200525',['B','C']] # GET DATA BY TAKING SINGLE LABEL"
   ]
  },
  {
   "cell_type": "code",
   "execution_count": 27,
   "metadata": {},
   "outputs": [
    {
     "data": {
      "text/plain": [
       "1.6158880316206818"
      ]
     },
     "execution_count": 27,
     "metadata": {},
     "output_type": "execute_result"
    }
   ],
   "source": [
    "df.at[d[0],'B']  # getting single value"
   ]
  },
  {
   "cell_type": "code",
   "execution_count": 28,
   "metadata": {},
   "outputs": [
    {
     "data": {
      "text/plain": [
       "-0.2969972626103221"
      ]
     },
     "execution_count": 28,
     "metadata": {},
     "output_type": "execute_result"
    }
   ],
   "source": [
    "df.at[d[0],'C'] # getting single value"
   ]
  },
  {
   "cell_type": "code",
   "execution_count": 29,
   "metadata": {},
   "outputs": [
    {
     "data": {
      "text/plain": [
       "A    0.991981\n",
       "B    1.615888\n",
       "C   -0.296997\n",
       "D   -0.400111\n",
       "Name: 2020-05-25 00:00:00, dtype: float64"
      ]
     },
     "execution_count": 29,
     "metadata": {},
     "output_type": "execute_result"
    }
   ],
   "source": [
    "df.iloc[0] # get data by indexed location "
   ]
  },
  {
   "cell_type": "code",
   "execution_count": 30,
   "metadata": {},
   "outputs": [
    {
     "data": {
      "text/html": [
       "<div>\n",
       "<style scoped>\n",
       "    .dataframe tbody tr th:only-of-type {\n",
       "        vertical-align: middle;\n",
       "    }\n",
       "\n",
       "    .dataframe tbody tr th {\n",
       "        vertical-align: top;\n",
       "    }\n",
       "\n",
       "    .dataframe thead th {\n",
       "        text-align: right;\n",
       "    }\n",
       "</style>\n",
       "<table border=\"1\" class=\"dataframe\">\n",
       "  <thead>\n",
       "    <tr style=\"text-align: right;\">\n",
       "      <th></th>\n",
       "      <th>A</th>\n",
       "      <th>B</th>\n",
       "      <th>C</th>\n",
       "      <th>D</th>\n",
       "    </tr>\n",
       "  </thead>\n",
       "  <tbody>\n",
       "    <tr>\n",
       "      <th>2020-05-25</th>\n",
       "      <td>0.991981</td>\n",
       "      <td>1.615888</td>\n",
       "      <td>-0.296997</td>\n",
       "      <td>-0.400111</td>\n",
       "    </tr>\n",
       "    <tr>\n",
       "      <th>2020-05-26</th>\n",
       "      <td>0.768326</td>\n",
       "      <td>0.300476</td>\n",
       "      <td>-1.553762</td>\n",
       "      <td>-0.224009</td>\n",
       "    </tr>\n",
       "  </tbody>\n",
       "</table>\n",
       "</div>"
      ],
      "text/plain": [
       "                   A         B         C         D\n",
       "2020-05-25  0.991981  1.615888 -0.296997 -0.400111\n",
       "2020-05-26  0.768326  0.300476 -1.553762 -0.224009"
      ]
     },
     "execution_count": 30,
     "metadata": {},
     "output_type": "execute_result"
    }
   ],
   "source": [
    "df.iloc[0:2] # get data by indexed location "
   ]
  },
  {
   "cell_type": "code",
   "execution_count": 31,
   "metadata": {},
   "outputs": [
    {
     "data": {
      "text/html": [
       "<div>\n",
       "<style scoped>\n",
       "    .dataframe tbody tr th:only-of-type {\n",
       "        vertical-align: middle;\n",
       "    }\n",
       "\n",
       "    .dataframe tbody tr th {\n",
       "        vertical-align: top;\n",
       "    }\n",
       "\n",
       "    .dataframe thead th {\n",
       "        text-align: right;\n",
       "    }\n",
       "</style>\n",
       "<table border=\"1\" class=\"dataframe\">\n",
       "  <thead>\n",
       "    <tr style=\"text-align: right;\">\n",
       "      <th></th>\n",
       "      <th>A</th>\n",
       "      <th>B</th>\n",
       "    </tr>\n",
       "  </thead>\n",
       "  <tbody>\n",
       "    <tr>\n",
       "      <th>2020-05-25</th>\n",
       "      <td>0.991981</td>\n",
       "      <td>1.615888</td>\n",
       "    </tr>\n",
       "    <tr>\n",
       "      <th>2020-05-26</th>\n",
       "      <td>0.768326</td>\n",
       "      <td>0.300476</td>\n",
       "    </tr>\n",
       "  </tbody>\n",
       "</table>\n",
       "</div>"
      ],
      "text/plain": [
       "                   A         B\n",
       "2020-05-25  0.991981  1.615888\n",
       "2020-05-26  0.768326  0.300476"
      ]
     },
     "execution_count": 31,
     "metadata": {},
     "output_type": "execute_result"
    }
   ],
   "source": [
    "df.iloc[0:2,0:2] # get data by indexed location "
   ]
  },
  {
   "cell_type": "code",
   "execution_count": 32,
   "metadata": {},
   "outputs": [
    {
     "data": {
      "text/html": [
       "<div>\n",
       "<style scoped>\n",
       "    .dataframe tbody tr th:only-of-type {\n",
       "        vertical-align: middle;\n",
       "    }\n",
       "\n",
       "    .dataframe tbody tr th {\n",
       "        vertical-align: top;\n",
       "    }\n",
       "\n",
       "    .dataframe thead th {\n",
       "        text-align: right;\n",
       "    }\n",
       "</style>\n",
       "<table border=\"1\" class=\"dataframe\">\n",
       "  <thead>\n",
       "    <tr style=\"text-align: right;\">\n",
       "      <th></th>\n",
       "      <th>A</th>\n",
       "      <th>B</th>\n",
       "      <th>C</th>\n",
       "      <th>D</th>\n",
       "    </tr>\n",
       "  </thead>\n",
       "  <tbody>\n",
       "    <tr>\n",
       "      <th>2020-05-25</th>\n",
       "      <td>0.991981</td>\n",
       "      <td>1.615888</td>\n",
       "      <td>-0.296997</td>\n",
       "      <td>-0.400111</td>\n",
       "    </tr>\n",
       "    <tr>\n",
       "      <th>2020-05-26</th>\n",
       "      <td>0.768326</td>\n",
       "      <td>0.300476</td>\n",
       "      <td>-1.553762</td>\n",
       "      <td>-0.224009</td>\n",
       "    </tr>\n",
       "    <tr>\n",
       "      <th>2020-05-28</th>\n",
       "      <td>0.650358</td>\n",
       "      <td>0.283608</td>\n",
       "      <td>1.391745</td>\n",
       "      <td>-0.374394</td>\n",
       "    </tr>\n",
       "    <tr>\n",
       "      <th>2020-06-02</th>\n",
       "      <td>0.692838</td>\n",
       "      <td>-0.621512</td>\n",
       "      <td>-0.177550</td>\n",
       "      <td>-0.728433</td>\n",
       "    </tr>\n",
       "    <tr>\n",
       "      <th>2020-06-03</th>\n",
       "      <td>0.938457</td>\n",
       "      <td>0.293652</td>\n",
       "      <td>-1.635967</td>\n",
       "      <td>0.157466</td>\n",
       "    </tr>\n",
       "  </tbody>\n",
       "</table>\n",
       "</div>"
      ],
      "text/plain": [
       "                   A         B         C         D\n",
       "2020-05-25  0.991981  1.615888 -0.296997 -0.400111\n",
       "2020-05-26  0.768326  0.300476 -1.553762 -0.224009\n",
       "2020-05-28  0.650358  0.283608  1.391745 -0.374394\n",
       "2020-06-02  0.692838 -0.621512 -0.177550 -0.728433\n",
       "2020-06-03  0.938457  0.293652 -1.635967  0.157466"
      ]
     },
     "execution_count": 32,
     "metadata": {},
     "output_type": "execute_result"
    }
   ],
   "source": [
    "df[df['A'] > 0]  # boolean indexing (imp) # like a fn giving values of column 'A' > 0"
   ]
  },
  {
   "cell_type": "code",
   "execution_count": 33,
   "metadata": {},
   "outputs": [
    {
     "data": {
      "text/html": [
       "<div>\n",
       "<style scoped>\n",
       "    .dataframe tbody tr th:only-of-type {\n",
       "        vertical-align: middle;\n",
       "    }\n",
       "\n",
       "    .dataframe tbody tr th {\n",
       "        vertical-align: top;\n",
       "    }\n",
       "\n",
       "    .dataframe thead th {\n",
       "        text-align: right;\n",
       "    }\n",
       "</style>\n",
       "<table border=\"1\" class=\"dataframe\">\n",
       "  <thead>\n",
       "    <tr style=\"text-align: right;\">\n",
       "      <th></th>\n",
       "      <th>A</th>\n",
       "      <th>B</th>\n",
       "      <th>C</th>\n",
       "      <th>D</th>\n",
       "    </tr>\n",
       "  </thead>\n",
       "  <tbody>\n",
       "  </tbody>\n",
       "</table>\n",
       "</div>"
      ],
      "text/plain": [
       "Empty DataFrame\n",
       "Columns: [A, B, C, D]\n",
       "Index: []"
      ]
     },
     "execution_count": 33,
     "metadata": {},
     "output_type": "execute_result"
    }
   ],
   "source": [
    "df[df['B'] > 2]"
   ]
  },
  {
   "cell_type": "markdown",
   "metadata": {},
   "source": [
    "## Handling missing data \n",
    "\n",
    "#### missing data or null values can create lots of problem during data science life cycle. it is challenging to handle misssing data."
   ]
  },
  {
   "cell_type": "code",
   "execution_count": 34,
   "metadata": {},
   "outputs": [],
   "source": [
    "df2 = df.reindex(index = d[0:4],columns = list(df.columns) + ['E']) \n",
    "# reindex the df where we take first 4 index(rows),all columns + 1 extra column "
   ]
  },
  {
   "cell_type": "code",
   "execution_count": 35,
   "metadata": {},
   "outputs": [],
   "source": [
    "df2.loc[d[0]:d[1],['E']] = 1  # set the first two row value of new col is 1"
   ]
  },
  {
   "cell_type": "code",
   "execution_count": 36,
   "metadata": {},
   "outputs": [
    {
     "data": {
      "text/html": [
       "<div>\n",
       "<style scoped>\n",
       "    .dataframe tbody tr th:only-of-type {\n",
       "        vertical-align: middle;\n",
       "    }\n",
       "\n",
       "    .dataframe tbody tr th {\n",
       "        vertical-align: top;\n",
       "    }\n",
       "\n",
       "    .dataframe thead th {\n",
       "        text-align: right;\n",
       "    }\n",
       "</style>\n",
       "<table border=\"1\" class=\"dataframe\">\n",
       "  <thead>\n",
       "    <tr style=\"text-align: right;\">\n",
       "      <th></th>\n",
       "      <th>A</th>\n",
       "      <th>B</th>\n",
       "      <th>C</th>\n",
       "      <th>D</th>\n",
       "      <th>E</th>\n",
       "    </tr>\n",
       "  </thead>\n",
       "  <tbody>\n",
       "    <tr>\n",
       "      <th>2020-05-25</th>\n",
       "      <td>0.991981</td>\n",
       "      <td>1.615888</td>\n",
       "      <td>-0.296997</td>\n",
       "      <td>-0.400111</td>\n",
       "      <td>1.0</td>\n",
       "    </tr>\n",
       "    <tr>\n",
       "      <th>2020-05-26</th>\n",
       "      <td>0.768326</td>\n",
       "      <td>0.300476</td>\n",
       "      <td>-1.553762</td>\n",
       "      <td>-0.224009</td>\n",
       "      <td>1.0</td>\n",
       "    </tr>\n",
       "    <tr>\n",
       "      <th>2020-05-27</th>\n",
       "      <td>-0.673708</td>\n",
       "      <td>0.141254</td>\n",
       "      <td>-0.729661</td>\n",
       "      <td>0.500395</td>\n",
       "      <td>NaN</td>\n",
       "    </tr>\n",
       "    <tr>\n",
       "      <th>2020-05-28</th>\n",
       "      <td>0.650358</td>\n",
       "      <td>0.283608</td>\n",
       "      <td>1.391745</td>\n",
       "      <td>-0.374394</td>\n",
       "      <td>NaN</td>\n",
       "    </tr>\n",
       "  </tbody>\n",
       "</table>\n",
       "</div>"
      ],
      "text/plain": [
       "                   A         B         C         D    E\n",
       "2020-05-25  0.991981  1.615888 -0.296997 -0.400111  1.0\n",
       "2020-05-26  0.768326  0.300476 -1.553762 -0.224009  1.0\n",
       "2020-05-27 -0.673708  0.141254 -0.729661  0.500395  NaN\n",
       "2020-05-28  0.650358  0.283608  1.391745 -0.374394  NaN"
      ]
     },
     "execution_count": 36,
     "metadata": {},
     "output_type": "execute_result"
    }
   ],
   "source": [
    "df2"
   ]
  },
  {
   "cell_type": "code",
   "execution_count": 37,
   "metadata": {},
   "outputs": [
    {
     "data": {
      "text/html": [
       "<div>\n",
       "<style scoped>\n",
       "    .dataframe tbody tr th:only-of-type {\n",
       "        vertical-align: middle;\n",
       "    }\n",
       "\n",
       "    .dataframe tbody tr th {\n",
       "        vertical-align: top;\n",
       "    }\n",
       "\n",
       "    .dataframe thead th {\n",
       "        text-align: right;\n",
       "    }\n",
       "</style>\n",
       "<table border=\"1\" class=\"dataframe\">\n",
       "  <thead>\n",
       "    <tr style=\"text-align: right;\">\n",
       "      <th></th>\n",
       "      <th>A</th>\n",
       "      <th>B</th>\n",
       "      <th>C</th>\n",
       "      <th>D</th>\n",
       "      <th>E</th>\n",
       "    </tr>\n",
       "  </thead>\n",
       "  <tbody>\n",
       "    <tr>\n",
       "      <th>2020-05-25</th>\n",
       "      <td>False</td>\n",
       "      <td>False</td>\n",
       "      <td>False</td>\n",
       "      <td>False</td>\n",
       "      <td>False</td>\n",
       "    </tr>\n",
       "    <tr>\n",
       "      <th>2020-05-26</th>\n",
       "      <td>False</td>\n",
       "      <td>False</td>\n",
       "      <td>False</td>\n",
       "      <td>False</td>\n",
       "      <td>False</td>\n",
       "    </tr>\n",
       "    <tr>\n",
       "      <th>2020-05-27</th>\n",
       "      <td>False</td>\n",
       "      <td>False</td>\n",
       "      <td>False</td>\n",
       "      <td>False</td>\n",
       "      <td>True</td>\n",
       "    </tr>\n",
       "    <tr>\n",
       "      <th>2020-05-28</th>\n",
       "      <td>False</td>\n",
       "      <td>False</td>\n",
       "      <td>False</td>\n",
       "      <td>False</td>\n",
       "      <td>True</td>\n",
       "    </tr>\n",
       "  </tbody>\n",
       "</table>\n",
       "</div>"
      ],
      "text/plain": [
       "                A      B      C      D      E\n",
       "2020-05-25  False  False  False  False  False\n",
       "2020-05-26  False  False  False  False  False\n",
       "2020-05-27  False  False  False  False   True\n",
       "2020-05-28  False  False  False  False   True"
      ]
     },
     "execution_count": 37,
     "metadata": {},
     "output_type": "execute_result"
    }
   ],
   "source": [
    "df2.isnull()  # check null values"
   ]
  },
  {
   "cell_type": "code",
   "execution_count": 38,
   "metadata": {},
   "outputs": [
    {
     "data": {
      "text/html": [
       "<div>\n",
       "<style scoped>\n",
       "    .dataframe tbody tr th:only-of-type {\n",
       "        vertical-align: middle;\n",
       "    }\n",
       "\n",
       "    .dataframe tbody tr th {\n",
       "        vertical-align: top;\n",
       "    }\n",
       "\n",
       "    .dataframe thead th {\n",
       "        text-align: right;\n",
       "    }\n",
       "</style>\n",
       "<table border=\"1\" class=\"dataframe\">\n",
       "  <thead>\n",
       "    <tr style=\"text-align: right;\">\n",
       "      <th></th>\n",
       "      <th>A</th>\n",
       "      <th>B</th>\n",
       "      <th>C</th>\n",
       "      <th>D</th>\n",
       "      <th>E</th>\n",
       "    </tr>\n",
       "  </thead>\n",
       "  <tbody>\n",
       "    <tr>\n",
       "      <th>2020-05-25</th>\n",
       "      <td>False</td>\n",
       "      <td>False</td>\n",
       "      <td>False</td>\n",
       "      <td>False</td>\n",
       "      <td>False</td>\n",
       "    </tr>\n",
       "    <tr>\n",
       "      <th>2020-05-26</th>\n",
       "      <td>False</td>\n",
       "      <td>False</td>\n",
       "      <td>False</td>\n",
       "      <td>False</td>\n",
       "      <td>False</td>\n",
       "    </tr>\n",
       "    <tr>\n",
       "      <th>2020-05-27</th>\n",
       "      <td>False</td>\n",
       "      <td>False</td>\n",
       "      <td>False</td>\n",
       "      <td>False</td>\n",
       "      <td>True</td>\n",
       "    </tr>\n",
       "    <tr>\n",
       "      <th>2020-05-28</th>\n",
       "      <td>False</td>\n",
       "      <td>False</td>\n",
       "      <td>False</td>\n",
       "      <td>False</td>\n",
       "      <td>True</td>\n",
       "    </tr>\n",
       "  </tbody>\n",
       "</table>\n",
       "</div>"
      ],
      "text/plain": [
       "                A      B      C      D      E\n",
       "2020-05-25  False  False  False  False  False\n",
       "2020-05-26  False  False  False  False  False\n",
       "2020-05-27  False  False  False  False   True\n",
       "2020-05-28  False  False  False  False   True"
      ]
     },
     "execution_count": 38,
     "metadata": {},
     "output_type": "execute_result"
    }
   ],
   "source": [
    "df2.isna() # check null values"
   ]
  },
  {
   "cell_type": "code",
   "execution_count": 39,
   "metadata": {},
   "outputs": [
    {
     "data": {
      "text/plain": [
       "A    0\n",
       "B    0\n",
       "C    0\n",
       "D    0\n",
       "E    2\n",
       "dtype: int64"
      ]
     },
     "execution_count": 39,
     "metadata": {},
     "output_type": "execute_result"
    }
   ],
   "source": [
    "df2.isnull().sum()  # get count of null values of each col"
   ]
  },
  {
   "cell_type": "code",
   "execution_count": 40,
   "metadata": {},
   "outputs": [
    {
     "data": {
      "text/html": [
       "<div>\n",
       "<style scoped>\n",
       "    .dataframe tbody tr th:only-of-type {\n",
       "        vertical-align: middle;\n",
       "    }\n",
       "\n",
       "    .dataframe tbody tr th {\n",
       "        vertical-align: top;\n",
       "    }\n",
       "\n",
       "    .dataframe thead th {\n",
       "        text-align: right;\n",
       "    }\n",
       "</style>\n",
       "<table border=\"1\" class=\"dataframe\">\n",
       "  <thead>\n",
       "    <tr style=\"text-align: right;\">\n",
       "      <th></th>\n",
       "      <th>A</th>\n",
       "      <th>B</th>\n",
       "      <th>C</th>\n",
       "      <th>D</th>\n",
       "      <th>E</th>\n",
       "    </tr>\n",
       "  </thead>\n",
       "  <tbody>\n",
       "    <tr>\n",
       "      <th>2020-05-25</th>\n",
       "      <td>0.991981</td>\n",
       "      <td>1.615888</td>\n",
       "      <td>-0.296997</td>\n",
       "      <td>-0.400111</td>\n",
       "      <td>1.0</td>\n",
       "    </tr>\n",
       "    <tr>\n",
       "      <th>2020-05-26</th>\n",
       "      <td>0.768326</td>\n",
       "      <td>0.300476</td>\n",
       "      <td>-1.553762</td>\n",
       "      <td>-0.224009</td>\n",
       "      <td>1.0</td>\n",
       "    </tr>\n",
       "    <tr>\n",
       "      <th>2020-05-27</th>\n",
       "      <td>-0.673708</td>\n",
       "      <td>0.141254</td>\n",
       "      <td>-0.729661</td>\n",
       "      <td>0.500395</td>\n",
       "      <td>2.0</td>\n",
       "    </tr>\n",
       "    <tr>\n",
       "      <th>2020-05-28</th>\n",
       "      <td>0.650358</td>\n",
       "      <td>0.283608</td>\n",
       "      <td>1.391745</td>\n",
       "      <td>-0.374394</td>\n",
       "      <td>2.0</td>\n",
       "    </tr>\n",
       "  </tbody>\n",
       "</table>\n",
       "</div>"
      ],
      "text/plain": [
       "                   A         B         C         D    E\n",
       "2020-05-25  0.991981  1.615888 -0.296997 -0.400111  1.0\n",
       "2020-05-26  0.768326  0.300476 -1.553762 -0.224009  1.0\n",
       "2020-05-27 -0.673708  0.141254 -0.729661  0.500395  2.0\n",
       "2020-05-28  0.650358  0.283608  1.391745 -0.374394  2.0"
      ]
     },
     "execution_count": 40,
     "metadata": {},
     "output_type": "execute_result"
    }
   ],
   "source": [
    "df2.fillna(value = 2)  # fill the value=2 in place of nan"
   ]
  },
  {
   "cell_type": "markdown",
   "metadata": {},
   "source": [
    "## Pandas Operations\n",
    "\n",
    "#### Descriptive statistiics, applying fn , string processing , histogramming."
   ]
  },
  {
   "cell_type": "code",
   "execution_count": 41,
   "metadata": {},
   "outputs": [
    {
     "data": {
      "text/html": [
       "<div>\n",
       "<style scoped>\n",
       "    .dataframe tbody tr th:only-of-type {\n",
       "        vertical-align: middle;\n",
       "    }\n",
       "\n",
       "    .dataframe tbody tr th {\n",
       "        vertical-align: top;\n",
       "    }\n",
       "\n",
       "    .dataframe thead th {\n",
       "        text-align: right;\n",
       "    }\n",
       "</style>\n",
       "<table border=\"1\" class=\"dataframe\">\n",
       "  <thead>\n",
       "    <tr style=\"text-align: right;\">\n",
       "      <th></th>\n",
       "      <th>A</th>\n",
       "      <th>B</th>\n",
       "      <th>C</th>\n",
       "      <th>D</th>\n",
       "    </tr>\n",
       "  </thead>\n",
       "  <tbody>\n",
       "    <tr>\n",
       "      <th>2020-05-25</th>\n",
       "      <td>0.991981</td>\n",
       "      <td>1.615888</td>\n",
       "      <td>-0.296997</td>\n",
       "      <td>-0.400111</td>\n",
       "    </tr>\n",
       "    <tr>\n",
       "      <th>2020-05-26</th>\n",
       "      <td>0.768326</td>\n",
       "      <td>0.300476</td>\n",
       "      <td>-1.553762</td>\n",
       "      <td>-0.224009</td>\n",
       "    </tr>\n",
       "    <tr>\n",
       "      <th>2020-05-27</th>\n",
       "      <td>-0.673708</td>\n",
       "      <td>0.141254</td>\n",
       "      <td>-0.729661</td>\n",
       "      <td>0.500395</td>\n",
       "    </tr>\n",
       "    <tr>\n",
       "      <th>2020-05-28</th>\n",
       "      <td>0.650358</td>\n",
       "      <td>0.283608</td>\n",
       "      <td>1.391745</td>\n",
       "      <td>-0.374394</td>\n",
       "    </tr>\n",
       "    <tr>\n",
       "      <th>2020-05-29</th>\n",
       "      <td>-0.763201</td>\n",
       "      <td>-0.845664</td>\n",
       "      <td>0.519668</td>\n",
       "      <td>0.876082</td>\n",
       "    </tr>\n",
       "    <tr>\n",
       "      <th>2020-05-30</th>\n",
       "      <td>-0.353572</td>\n",
       "      <td>-0.297080</td>\n",
       "      <td>0.258634</td>\n",
       "      <td>1.657337</td>\n",
       "    </tr>\n",
       "    <tr>\n",
       "      <th>2020-05-31</th>\n",
       "      <td>-0.323465</td>\n",
       "      <td>-1.044875</td>\n",
       "      <td>-1.189846</td>\n",
       "      <td>1.165950</td>\n",
       "    </tr>\n",
       "    <tr>\n",
       "      <th>2020-06-01</th>\n",
       "      <td>-1.030814</td>\n",
       "      <td>-0.133547</td>\n",
       "      <td>1.208483</td>\n",
       "      <td>0.018312</td>\n",
       "    </tr>\n",
       "    <tr>\n",
       "      <th>2020-06-02</th>\n",
       "      <td>0.692838</td>\n",
       "      <td>-0.621512</td>\n",
       "      <td>-0.177550</td>\n",
       "      <td>-0.728433</td>\n",
       "    </tr>\n",
       "    <tr>\n",
       "      <th>2020-06-03</th>\n",
       "      <td>0.938457</td>\n",
       "      <td>0.293652</td>\n",
       "      <td>-1.635967</td>\n",
       "      <td>0.157466</td>\n",
       "    </tr>\n",
       "  </tbody>\n",
       "</table>\n",
       "</div>"
      ],
      "text/plain": [
       "                   A         B         C         D\n",
       "2020-05-25  0.991981  1.615888 -0.296997 -0.400111\n",
       "2020-05-26  0.768326  0.300476 -1.553762 -0.224009\n",
       "2020-05-27 -0.673708  0.141254 -0.729661  0.500395\n",
       "2020-05-28  0.650358  0.283608  1.391745 -0.374394\n",
       "2020-05-29 -0.763201 -0.845664  0.519668  0.876082\n",
       "2020-05-30 -0.353572 -0.297080  0.258634  1.657337\n",
       "2020-05-31 -0.323465 -1.044875 -1.189846  1.165950\n",
       "2020-06-01 -1.030814 -0.133547  1.208483  0.018312\n",
       "2020-06-02  0.692838 -0.621512 -0.177550 -0.728433\n",
       "2020-06-03  0.938457  0.293652 -1.635967  0.157466"
      ]
     },
     "execution_count": 41,
     "metadata": {},
     "output_type": "execute_result"
    }
   ],
   "source": [
    "df"
   ]
  },
  {
   "cell_type": "code",
   "execution_count": 42,
   "metadata": {},
   "outputs": [
    {
     "data": {
      "text/plain": [
       "A    0.089720\n",
       "B   -0.030780\n",
       "C   -0.220525\n",
       "D    0.264859\n",
       "dtype: float64"
      ]
     },
     "execution_count": 42,
     "metadata": {},
     "output_type": "execute_result"
    }
   ],
   "source": [
    "df.mean()  # mean val col wise"
   ]
  },
  {
   "cell_type": "code",
   "execution_count": 43,
   "metadata": {},
   "outputs": [
    {
     "data": {
      "text/plain": [
       "2020-05-25    0.477690\n",
       "2020-05-26   -0.177242\n",
       "2020-05-27   -0.190430\n",
       "2020-05-28    0.487829\n",
       "2020-05-29   -0.053279\n",
       "2020-05-30    0.316330\n",
       "2020-05-31   -0.348059\n",
       "2020-06-01    0.015609\n",
       "2020-06-02   -0.208664\n",
       "2020-06-03   -0.061598\n",
       "Freq: D, dtype: float64"
      ]
     },
     "execution_count": 43,
     "metadata": {},
     "output_type": "execute_result"
    }
   ],
   "source": [
    "df.mean(1) # mean val row wise"
   ]
  },
  {
   "cell_type": "code",
   "execution_count": 44,
   "metadata": {},
   "outputs": [],
   "source": [
    "s = pd.Series([1,2,3,np.nan,4,5,6,7,8,9],index = d)"
   ]
  },
  {
   "cell_type": "code",
   "execution_count": 45,
   "metadata": {},
   "outputs": [
    {
     "data": {
      "text/plain": [
       "2020-05-25    1.0\n",
       "2020-05-26    2.0\n",
       "2020-05-27    3.0\n",
       "2020-05-28    NaN\n",
       "2020-05-29    4.0\n",
       "2020-05-30    5.0\n",
       "2020-05-31    6.0\n",
       "2020-06-01    7.0\n",
       "2020-06-02    8.0\n",
       "2020-06-03    9.0\n",
       "Freq: D, dtype: float64"
      ]
     },
     "execution_count": 45,
     "metadata": {},
     "output_type": "execute_result"
    }
   ],
   "source": [
    "s"
   ]
  },
  {
   "cell_type": "code",
   "execution_count": 46,
   "metadata": {},
   "outputs": [
    {
     "data": {
      "text/plain": [
       "2020-05-25    NaN\n",
       "2020-05-26    NaN\n",
       "2020-05-27    1.0\n",
       "2020-05-28    2.0\n",
       "2020-05-29    3.0\n",
       "2020-05-30    NaN\n",
       "2020-05-31    4.0\n",
       "2020-06-01    5.0\n",
       "2020-06-02    6.0\n",
       "2020-06-03    7.0\n",
       "Freq: D, dtype: float64"
      ]
     },
     "execution_count": 46,
     "metadata": {},
     "output_type": "execute_result"
    }
   ],
   "source": [
    "s = s.shift(2)  # shifting the value of s by 2 (rowwise)\n",
    "s"
   ]
  },
  {
   "cell_type": "code",
   "execution_count": 47,
   "metadata": {},
   "outputs": [
    {
     "data": {
      "text/html": [
       "<div>\n",
       "<style scoped>\n",
       "    .dataframe tbody tr th:only-of-type {\n",
       "        vertical-align: middle;\n",
       "    }\n",
       "\n",
       "    .dataframe tbody tr th {\n",
       "        vertical-align: top;\n",
       "    }\n",
       "\n",
       "    .dataframe thead th {\n",
       "        text-align: right;\n",
       "    }\n",
       "</style>\n",
       "<table border=\"1\" class=\"dataframe\">\n",
       "  <thead>\n",
       "    <tr style=\"text-align: right;\">\n",
       "      <th></th>\n",
       "      <th>A</th>\n",
       "      <th>B</th>\n",
       "      <th>C</th>\n",
       "      <th>D</th>\n",
       "    </tr>\n",
       "  </thead>\n",
       "  <tbody>\n",
       "    <tr>\n",
       "      <th>2020-05-25</th>\n",
       "      <td>NaN</td>\n",
       "      <td>NaN</td>\n",
       "      <td>NaN</td>\n",
       "      <td>NaN</td>\n",
       "    </tr>\n",
       "    <tr>\n",
       "      <th>2020-05-26</th>\n",
       "      <td>NaN</td>\n",
       "      <td>NaN</td>\n",
       "      <td>NaN</td>\n",
       "      <td>NaN</td>\n",
       "    </tr>\n",
       "    <tr>\n",
       "      <th>2020-05-27</th>\n",
       "      <td>-1.673708</td>\n",
       "      <td>-0.858746</td>\n",
       "      <td>-1.729661</td>\n",
       "      <td>-0.499605</td>\n",
       "    </tr>\n",
       "    <tr>\n",
       "      <th>2020-05-28</th>\n",
       "      <td>-1.349642</td>\n",
       "      <td>-1.716392</td>\n",
       "      <td>-0.608255</td>\n",
       "      <td>-2.374394</td>\n",
       "    </tr>\n",
       "    <tr>\n",
       "      <th>2020-05-29</th>\n",
       "      <td>-3.763201</td>\n",
       "      <td>-3.845664</td>\n",
       "      <td>-2.480332</td>\n",
       "      <td>-2.123918</td>\n",
       "    </tr>\n",
       "    <tr>\n",
       "      <th>2020-05-30</th>\n",
       "      <td>NaN</td>\n",
       "      <td>NaN</td>\n",
       "      <td>NaN</td>\n",
       "      <td>NaN</td>\n",
       "    </tr>\n",
       "    <tr>\n",
       "      <th>2020-05-31</th>\n",
       "      <td>-4.323465</td>\n",
       "      <td>-5.044875</td>\n",
       "      <td>-5.189846</td>\n",
       "      <td>-2.834050</td>\n",
       "    </tr>\n",
       "    <tr>\n",
       "      <th>2020-06-01</th>\n",
       "      <td>-6.030814</td>\n",
       "      <td>-5.133547</td>\n",
       "      <td>-3.791517</td>\n",
       "      <td>-4.981688</td>\n",
       "    </tr>\n",
       "    <tr>\n",
       "      <th>2020-06-02</th>\n",
       "      <td>-5.307162</td>\n",
       "      <td>-6.621512</td>\n",
       "      <td>-6.177550</td>\n",
       "      <td>-6.728433</td>\n",
       "    </tr>\n",
       "    <tr>\n",
       "      <th>2020-06-03</th>\n",
       "      <td>-6.061543</td>\n",
       "      <td>-6.706348</td>\n",
       "      <td>-8.635967</td>\n",
       "      <td>-6.842534</td>\n",
       "    </tr>\n",
       "  </tbody>\n",
       "</table>\n",
       "</div>"
      ],
      "text/plain": [
       "                   A         B         C         D\n",
       "2020-05-25       NaN       NaN       NaN       NaN\n",
       "2020-05-26       NaN       NaN       NaN       NaN\n",
       "2020-05-27 -1.673708 -0.858746 -1.729661 -0.499605\n",
       "2020-05-28 -1.349642 -1.716392 -0.608255 -2.374394\n",
       "2020-05-29 -3.763201 -3.845664 -2.480332 -2.123918\n",
       "2020-05-30       NaN       NaN       NaN       NaN\n",
       "2020-05-31 -4.323465 -5.044875 -5.189846 -2.834050\n",
       "2020-06-01 -6.030814 -5.133547 -3.791517 -4.981688\n",
       "2020-06-02 -5.307162 -6.621512 -6.177550 -6.728433\n",
       "2020-06-03 -6.061543 -6.706348 -8.635967 -6.842534"
      ]
     },
     "execution_count": 47,
     "metadata": {},
     "output_type": "execute_result"
    }
   ],
   "source": [
    "df.sub(s,axis = 'index')"
   ]
  },
  {
   "cell_type": "code",
   "execution_count": 48,
   "metadata": {},
   "outputs": [
    {
     "data": {
      "text/html": [
       "<div>\n",
       "<style scoped>\n",
       "    .dataframe tbody tr th:only-of-type {\n",
       "        vertical-align: middle;\n",
       "    }\n",
       "\n",
       "    .dataframe tbody tr th {\n",
       "        vertical-align: top;\n",
       "    }\n",
       "\n",
       "    .dataframe thead th {\n",
       "        text-align: right;\n",
       "    }\n",
       "</style>\n",
       "<table border=\"1\" class=\"dataframe\">\n",
       "  <thead>\n",
       "    <tr style=\"text-align: right;\">\n",
       "      <th></th>\n",
       "      <th>A</th>\n",
       "      <th>B</th>\n",
       "      <th>C</th>\n",
       "      <th>D</th>\n",
       "    </tr>\n",
       "  </thead>\n",
       "  <tbody>\n",
       "    <tr>\n",
       "      <th>2020-05-25</th>\n",
       "      <td>0.991981</td>\n",
       "      <td>1.615888</td>\n",
       "      <td>-0.296997</td>\n",
       "      <td>-0.400111</td>\n",
       "    </tr>\n",
       "    <tr>\n",
       "      <th>2020-05-26</th>\n",
       "      <td>0.768326</td>\n",
       "      <td>0.300476</td>\n",
       "      <td>-1.553762</td>\n",
       "      <td>-0.224009</td>\n",
       "    </tr>\n",
       "    <tr>\n",
       "      <th>2020-05-27</th>\n",
       "      <td>-0.673708</td>\n",
       "      <td>0.141254</td>\n",
       "      <td>-0.729661</td>\n",
       "      <td>0.500395</td>\n",
       "    </tr>\n",
       "    <tr>\n",
       "      <th>2020-05-28</th>\n",
       "      <td>0.650358</td>\n",
       "      <td>0.283608</td>\n",
       "      <td>1.391745</td>\n",
       "      <td>-0.374394</td>\n",
       "    </tr>\n",
       "    <tr>\n",
       "      <th>2020-05-29</th>\n",
       "      <td>-0.763201</td>\n",
       "      <td>-0.845664</td>\n",
       "      <td>0.519668</td>\n",
       "      <td>0.876082</td>\n",
       "    </tr>\n",
       "    <tr>\n",
       "      <th>2020-05-30</th>\n",
       "      <td>-0.353572</td>\n",
       "      <td>-0.297080</td>\n",
       "      <td>0.258634</td>\n",
       "      <td>1.657337</td>\n",
       "    </tr>\n",
       "    <tr>\n",
       "      <th>2020-05-31</th>\n",
       "      <td>-0.323465</td>\n",
       "      <td>-1.044875</td>\n",
       "      <td>-1.189846</td>\n",
       "      <td>1.165950</td>\n",
       "    </tr>\n",
       "    <tr>\n",
       "      <th>2020-06-01</th>\n",
       "      <td>-1.030814</td>\n",
       "      <td>-0.133547</td>\n",
       "      <td>1.208483</td>\n",
       "      <td>0.018312</td>\n",
       "    </tr>\n",
       "    <tr>\n",
       "      <th>2020-06-02</th>\n",
       "      <td>0.692838</td>\n",
       "      <td>-0.621512</td>\n",
       "      <td>-0.177550</td>\n",
       "      <td>-0.728433</td>\n",
       "    </tr>\n",
       "    <tr>\n",
       "      <th>2020-06-03</th>\n",
       "      <td>0.938457</td>\n",
       "      <td>0.293652</td>\n",
       "      <td>-1.635967</td>\n",
       "      <td>0.157466</td>\n",
       "    </tr>\n",
       "  </tbody>\n",
       "</table>\n",
       "</div>"
      ],
      "text/plain": [
       "                   A         B         C         D\n",
       "2020-05-25  0.991981  1.615888 -0.296997 -0.400111\n",
       "2020-05-26  0.768326  0.300476 -1.553762 -0.224009\n",
       "2020-05-27 -0.673708  0.141254 -0.729661  0.500395\n",
       "2020-05-28  0.650358  0.283608  1.391745 -0.374394\n",
       "2020-05-29 -0.763201 -0.845664  0.519668  0.876082\n",
       "2020-05-30 -0.353572 -0.297080  0.258634  1.657337\n",
       "2020-05-31 -0.323465 -1.044875 -1.189846  1.165950\n",
       "2020-06-01 -1.030814 -0.133547  1.208483  0.018312\n",
       "2020-06-02  0.692838 -0.621512 -0.177550 -0.728433\n",
       "2020-06-03  0.938457  0.293652 -1.635967  0.157466"
      ]
     },
     "execution_count": 48,
     "metadata": {},
     "output_type": "execute_result"
    }
   ],
   "source": [
    "df"
   ]
  },
  {
   "cell_type": "code",
   "execution_count": 49,
   "metadata": {},
   "outputs": [
    {
     "data": {
      "text/html": [
       "<div>\n",
       "<style scoped>\n",
       "    .dataframe tbody tr th:only-of-type {\n",
       "        vertical-align: middle;\n",
       "    }\n",
       "\n",
       "    .dataframe tbody tr th {\n",
       "        vertical-align: top;\n",
       "    }\n",
       "\n",
       "    .dataframe thead th {\n",
       "        text-align: right;\n",
       "    }\n",
       "</style>\n",
       "<table border=\"1\" class=\"dataframe\">\n",
       "  <thead>\n",
       "    <tr style=\"text-align: right;\">\n",
       "      <th></th>\n",
       "      <th>A</th>\n",
       "      <th>B</th>\n",
       "      <th>C</th>\n",
       "      <th>D</th>\n",
       "    </tr>\n",
       "  </thead>\n",
       "  <tbody>\n",
       "    <tr>\n",
       "      <th>2020-05-25</th>\n",
       "      <td>0.991981</td>\n",
       "      <td>1.615888</td>\n",
       "      <td>-0.296997</td>\n",
       "      <td>-0.400111</td>\n",
       "    </tr>\n",
       "    <tr>\n",
       "      <th>2020-05-26</th>\n",
       "      <td>1.760307</td>\n",
       "      <td>1.916364</td>\n",
       "      <td>-1.850759</td>\n",
       "      <td>-0.624121</td>\n",
       "    </tr>\n",
       "    <tr>\n",
       "      <th>2020-05-27</th>\n",
       "      <td>1.086599</td>\n",
       "      <td>2.057619</td>\n",
       "      <td>-2.580419</td>\n",
       "      <td>-0.123726</td>\n",
       "    </tr>\n",
       "    <tr>\n",
       "      <th>2020-05-28</th>\n",
       "      <td>1.736957</td>\n",
       "      <td>2.341226</td>\n",
       "      <td>-1.188674</td>\n",
       "      <td>-0.498120</td>\n",
       "    </tr>\n",
       "    <tr>\n",
       "      <th>2020-05-29</th>\n",
       "      <td>0.973756</td>\n",
       "      <td>1.495562</td>\n",
       "      <td>-0.669006</td>\n",
       "      <td>0.377962</td>\n",
       "    </tr>\n",
       "    <tr>\n",
       "      <th>2020-05-30</th>\n",
       "      <td>0.620184</td>\n",
       "      <td>1.198483</td>\n",
       "      <td>-0.410372</td>\n",
       "      <td>2.035299</td>\n",
       "    </tr>\n",
       "    <tr>\n",
       "      <th>2020-05-31</th>\n",
       "      <td>0.296719</td>\n",
       "      <td>0.153608</td>\n",
       "      <td>-1.600218</td>\n",
       "      <td>3.201249</td>\n",
       "    </tr>\n",
       "    <tr>\n",
       "      <th>2020-06-01</th>\n",
       "      <td>-0.734095</td>\n",
       "      <td>0.020061</td>\n",
       "      <td>-0.391735</td>\n",
       "      <td>3.219561</td>\n",
       "    </tr>\n",
       "    <tr>\n",
       "      <th>2020-06-02</th>\n",
       "      <td>-0.041257</td>\n",
       "      <td>-0.601451</td>\n",
       "      <td>-0.569285</td>\n",
       "      <td>2.491129</td>\n",
       "    </tr>\n",
       "    <tr>\n",
       "      <th>2020-06-03</th>\n",
       "      <td>0.897200</td>\n",
       "      <td>-0.307799</td>\n",
       "      <td>-2.205252</td>\n",
       "      <td>2.648594</td>\n",
       "    </tr>\n",
       "  </tbody>\n",
       "</table>\n",
       "</div>"
      ],
      "text/plain": [
       "                   A         B         C         D\n",
       "2020-05-25  0.991981  1.615888 -0.296997 -0.400111\n",
       "2020-05-26  1.760307  1.916364 -1.850759 -0.624121\n",
       "2020-05-27  1.086599  2.057619 -2.580419 -0.123726\n",
       "2020-05-28  1.736957  2.341226 -1.188674 -0.498120\n",
       "2020-05-29  0.973756  1.495562 -0.669006  0.377962\n",
       "2020-05-30  0.620184  1.198483 -0.410372  2.035299\n",
       "2020-05-31  0.296719  0.153608 -1.600218  3.201249\n",
       "2020-06-01 -0.734095  0.020061 -0.391735  3.219561\n",
       "2020-06-02 -0.041257 -0.601451 -0.569285  2.491129\n",
       "2020-06-03  0.897200 -0.307799 -2.205252  2.648594"
      ]
     },
     "execution_count": 49,
     "metadata": {},
     "output_type": "execute_result"
    }
   ],
   "source": [
    "df.apply(np.cumsum) # apply fn to get cumulative sum"
   ]
  },
  {
   "cell_type": "code",
   "execution_count": 50,
   "metadata": {},
   "outputs": [
    {
     "data": {
      "text/plain": [
       "A    2.022795\n",
       "B    2.660763\n",
       "C    3.027712\n",
       "D    2.385770\n",
       "dtype: float64"
      ]
     },
     "execution_count": 50,
     "metadata": {},
     "output_type": "execute_result"
    }
   ],
   "source": [
    "df.apply(lambda x: max(x) - min(x)) # apply lambda fn to get max-min value of each col"
   ]
  },
  {
   "cell_type": "code",
   "execution_count": 51,
   "metadata": {},
   "outputs": [
    {
     "data": {
      "text/plain": [
       "A    0.991981\n",
       "B    1.615888\n",
       "C    1.391745\n",
       "D    1.657337\n",
       "dtype: float64"
      ]
     },
     "execution_count": 51,
     "metadata": {},
     "output_type": "execute_result"
    }
   ],
   "source": [
    "df.apply(lambda x: max(x)) # apply lambda fn to get max value of each col"
   ]
  },
  {
   "cell_type": "code",
   "execution_count": 52,
   "metadata": {},
   "outputs": [
    {
     "data": {
      "text/plain": [
       "2020-05-25    NaN\n",
       "2020-05-26    NaN\n",
       "2020-05-27    1.0\n",
       "2020-05-28    2.0\n",
       "2020-05-29    3.0\n",
       "2020-05-30    NaN\n",
       "2020-05-31    4.0\n",
       "2020-06-01    5.0\n",
       "2020-06-02    6.0\n",
       "2020-06-03    7.0\n",
       "Freq: D, dtype: float64"
      ]
     },
     "execution_count": 52,
     "metadata": {},
     "output_type": "execute_result"
    }
   ],
   "source": [
    "s"
   ]
  },
  {
   "cell_type": "code",
   "execution_count": 53,
   "metadata": {},
   "outputs": [
    {
     "data": {
      "text/plain": [
       "7.0    1\n",
       "6.0    1\n",
       "5.0    1\n",
       "4.0    1\n",
       "3.0    1\n",
       "2.0    1\n",
       "1.0    1\n",
       "dtype: int64"
      ]
     },
     "execution_count": 53,
     "metadata": {},
     "output_type": "execute_result"
    }
   ],
   "source": [
    "s.value_counts()  # get count of each non null values"
   ]
  },
  {
   "cell_type": "code",
   "execution_count": 54,
   "metadata": {},
   "outputs": [],
   "source": [
    "s1 = pd.Series(['edureka','python','jupyter',np.nan,'football','world']) # creating series having string values"
   ]
  },
  {
   "cell_type": "code",
   "execution_count": 55,
   "metadata": {},
   "outputs": [
    {
     "data": {
      "text/plain": [
       "0     edureka\n",
       "1      python\n",
       "2     jupyter\n",
       "3         NaN\n",
       "4    football\n",
       "5       world\n",
       "dtype: object"
      ]
     },
     "execution_count": 55,
     "metadata": {},
     "output_type": "execute_result"
    }
   ],
   "source": [
    "s1"
   ]
  },
  {
   "cell_type": "code",
   "execution_count": 56,
   "metadata": {},
   "outputs": [
    {
     "data": {
      "text/plain": [
       "0     EDUREKA\n",
       "1      PYTHON\n",
       "2     JUPYTER\n",
       "3         NaN\n",
       "4    FOOTBALL\n",
       "5       WORLD\n",
       "dtype: object"
      ]
     },
     "execution_count": 56,
     "metadata": {},
     "output_type": "execute_result"
    }
   ],
   "source": [
    "s1.str.upper() # all upper case"
   ]
  },
  {
   "cell_type": "code",
   "execution_count": 57,
   "metadata": {},
   "outputs": [
    {
     "data": {
      "text/plain": [
       "0     edureka\n",
       "1      python\n",
       "2     jupyter\n",
       "3         NaN\n",
       "4    football\n",
       "5       world\n",
       "dtype: object"
      ]
     },
     "execution_count": 57,
     "metadata": {},
     "output_type": "execute_result"
    }
   ],
   "source": [
    "s1.str.lower() # all lower case"
   ]
  },
  {
   "cell_type": "code",
   "execution_count": 58,
   "metadata": {},
   "outputs": [
    {
     "data": {
      "text/plain": [
       "0     Edureka\n",
       "1      Python\n",
       "2     Jupyter\n",
       "3         NaN\n",
       "4    Football\n",
       "5       World\n",
       "dtype: object"
      ]
     },
     "execution_count": 58,
     "metadata": {},
     "output_type": "execute_result"
    }
   ],
   "source": [
    "s1.str.capitalize() # first letter capital"
   ]
  },
  {
   "cell_type": "code",
   "execution_count": 59,
   "metadata": {},
   "outputs": [
    {
     "data": {
      "text/plain": [
       "0    False\n",
       "1    False\n",
       "2    False\n",
       "3      NaN\n",
       "4    False\n",
       "5    False\n",
       "dtype: object"
      ]
     },
     "execution_count": 59,
     "metadata": {},
     "output_type": "execute_result"
    }
   ],
   "source": [
    "s1.str.isnumeric()"
   ]
  },
  {
   "cell_type": "markdown",
   "metadata": {},
   "source": [
    "#####  by clicking on tab after s1.str., we can get many fn of strings."
   ]
  },
  {
   "cell_type": "markdown",
   "metadata": {},
   "source": [
    "## merging \n",
    "\n",
    "### merge 2 df together"
   ]
  },
  {
   "cell_type": "code",
   "execution_count": 60,
   "metadata": {},
   "outputs": [],
   "source": [
    "df1 = pd.DataFrame(np.random.randn(10,4))"
   ]
  },
  {
   "cell_type": "code",
   "execution_count": 61,
   "metadata": {},
   "outputs": [
    {
     "data": {
      "text/html": [
       "<div>\n",
       "<style scoped>\n",
       "    .dataframe tbody tr th:only-of-type {\n",
       "        vertical-align: middle;\n",
       "    }\n",
       "\n",
       "    .dataframe tbody tr th {\n",
       "        vertical-align: top;\n",
       "    }\n",
       "\n",
       "    .dataframe thead th {\n",
       "        text-align: right;\n",
       "    }\n",
       "</style>\n",
       "<table border=\"1\" class=\"dataframe\">\n",
       "  <thead>\n",
       "    <tr style=\"text-align: right;\">\n",
       "      <th></th>\n",
       "      <th>0</th>\n",
       "      <th>1</th>\n",
       "      <th>2</th>\n",
       "      <th>3</th>\n",
       "    </tr>\n",
       "  </thead>\n",
       "  <tbody>\n",
       "    <tr>\n",
       "      <th>0</th>\n",
       "      <td>-0.524182</td>\n",
       "      <td>0.921088</td>\n",
       "      <td>0.109704</td>\n",
       "      <td>-1.641461</td>\n",
       "    </tr>\n",
       "    <tr>\n",
       "      <th>1</th>\n",
       "      <td>-1.396997</td>\n",
       "      <td>-0.262049</td>\n",
       "      <td>-1.021408</td>\n",
       "      <td>0.722611</td>\n",
       "    </tr>\n",
       "    <tr>\n",
       "      <th>2</th>\n",
       "      <td>0.258444</td>\n",
       "      <td>-0.695070</td>\n",
       "      <td>0.550972</td>\n",
       "      <td>-0.436340</td>\n",
       "    </tr>\n",
       "    <tr>\n",
       "      <th>3</th>\n",
       "      <td>0.492662</td>\n",
       "      <td>0.776347</td>\n",
       "      <td>-0.341992</td>\n",
       "      <td>-0.559708</td>\n",
       "    </tr>\n",
       "    <tr>\n",
       "      <th>4</th>\n",
       "      <td>0.455072</td>\n",
       "      <td>0.701672</td>\n",
       "      <td>0.317695</td>\n",
       "      <td>-0.760406</td>\n",
       "    </tr>\n",
       "    <tr>\n",
       "      <th>5</th>\n",
       "      <td>-1.050981</td>\n",
       "      <td>-0.421697</td>\n",
       "      <td>-0.659777</td>\n",
       "      <td>0.848591</td>\n",
       "    </tr>\n",
       "    <tr>\n",
       "      <th>6</th>\n",
       "      <td>-0.053892</td>\n",
       "      <td>-0.426898</td>\n",
       "      <td>-0.309422</td>\n",
       "      <td>0.448815</td>\n",
       "    </tr>\n",
       "    <tr>\n",
       "      <th>7</th>\n",
       "      <td>-0.319998</td>\n",
       "      <td>-0.730562</td>\n",
       "      <td>0.894824</td>\n",
       "      <td>-2.061153</td>\n",
       "    </tr>\n",
       "    <tr>\n",
       "      <th>8</th>\n",
       "      <td>-0.222252</td>\n",
       "      <td>-1.060859</td>\n",
       "      <td>-1.220988</td>\n",
       "      <td>0.145869</td>\n",
       "    </tr>\n",
       "    <tr>\n",
       "      <th>9</th>\n",
       "      <td>0.260910</td>\n",
       "      <td>-0.145777</td>\n",
       "      <td>1.160061</td>\n",
       "      <td>-0.506256</td>\n",
       "    </tr>\n",
       "  </tbody>\n",
       "</table>\n",
       "</div>"
      ],
      "text/plain": [
       "          0         1         2         3\n",
       "0 -0.524182  0.921088  0.109704 -1.641461\n",
       "1 -1.396997 -0.262049 -1.021408  0.722611\n",
       "2  0.258444 -0.695070  0.550972 -0.436340\n",
       "3  0.492662  0.776347 -0.341992 -0.559708\n",
       "4  0.455072  0.701672  0.317695 -0.760406\n",
       "5 -1.050981 -0.421697 -0.659777  0.848591\n",
       "6 -0.053892 -0.426898 -0.309422  0.448815\n",
       "7 -0.319998 -0.730562  0.894824 -2.061153\n",
       "8 -0.222252 -1.060859 -1.220988  0.145869\n",
       "9  0.260910 -0.145777  1.160061 -0.506256"
      ]
     },
     "execution_count": 61,
     "metadata": {},
     "output_type": "execute_result"
    }
   ],
   "source": [
    "df1"
   ]
  },
  {
   "cell_type": "code",
   "execution_count": 62,
   "metadata": {},
   "outputs": [],
   "source": [
    "df2 = [df1[0:3],df1[3:7],df1[7:]]  # df2 is data splitted in several pieces"
   ]
  },
  {
   "cell_type": "code",
   "execution_count": 63,
   "metadata": {},
   "outputs": [
    {
     "data": {
      "text/plain": [
       "[          0         1         2         3\n",
       " 0 -0.524182  0.921088  0.109704 -1.641461\n",
       " 1 -1.396997 -0.262049 -1.021408  0.722611\n",
       " 2  0.258444 -0.695070  0.550972 -0.436340,\n",
       "           0         1         2         3\n",
       " 3  0.492662  0.776347 -0.341992 -0.559708\n",
       " 4  0.455072  0.701672  0.317695 -0.760406\n",
       " 5 -1.050981 -0.421697 -0.659777  0.848591\n",
       " 6 -0.053892 -0.426898 -0.309422  0.448815,\n",
       "           0         1         2         3\n",
       " 7 -0.319998 -0.730562  0.894824 -2.061153\n",
       " 8 -0.222252 -1.060859 -1.220988  0.145869\n",
       " 9  0.260910 -0.145777  1.160061 -0.506256]"
      ]
     },
     "execution_count": 63,
     "metadata": {},
     "output_type": "execute_result"
    }
   ],
   "source": [
    "df2"
   ]
  },
  {
   "cell_type": "code",
   "execution_count": 64,
   "metadata": {},
   "outputs": [
    {
     "data": {
      "text/html": [
       "<div>\n",
       "<style scoped>\n",
       "    .dataframe tbody tr th:only-of-type {\n",
       "        vertical-align: middle;\n",
       "    }\n",
       "\n",
       "    .dataframe tbody tr th {\n",
       "        vertical-align: top;\n",
       "    }\n",
       "\n",
       "    .dataframe thead th {\n",
       "        text-align: right;\n",
       "    }\n",
       "</style>\n",
       "<table border=\"1\" class=\"dataframe\">\n",
       "  <thead>\n",
       "    <tr style=\"text-align: right;\">\n",
       "      <th></th>\n",
       "      <th>0</th>\n",
       "      <th>1</th>\n",
       "      <th>2</th>\n",
       "      <th>3</th>\n",
       "    </tr>\n",
       "  </thead>\n",
       "  <tbody>\n",
       "    <tr>\n",
       "      <th>0</th>\n",
       "      <td>-0.524182</td>\n",
       "      <td>0.921088</td>\n",
       "      <td>0.109704</td>\n",
       "      <td>-1.641461</td>\n",
       "    </tr>\n",
       "    <tr>\n",
       "      <th>1</th>\n",
       "      <td>-1.396997</td>\n",
       "      <td>-0.262049</td>\n",
       "      <td>-1.021408</td>\n",
       "      <td>0.722611</td>\n",
       "    </tr>\n",
       "    <tr>\n",
       "      <th>2</th>\n",
       "      <td>0.258444</td>\n",
       "      <td>-0.695070</td>\n",
       "      <td>0.550972</td>\n",
       "      <td>-0.436340</td>\n",
       "    </tr>\n",
       "    <tr>\n",
       "      <th>3</th>\n",
       "      <td>0.492662</td>\n",
       "      <td>0.776347</td>\n",
       "      <td>-0.341992</td>\n",
       "      <td>-0.559708</td>\n",
       "    </tr>\n",
       "    <tr>\n",
       "      <th>4</th>\n",
       "      <td>0.455072</td>\n",
       "      <td>0.701672</td>\n",
       "      <td>0.317695</td>\n",
       "      <td>-0.760406</td>\n",
       "    </tr>\n",
       "    <tr>\n",
       "      <th>5</th>\n",
       "      <td>-1.050981</td>\n",
       "      <td>-0.421697</td>\n",
       "      <td>-0.659777</td>\n",
       "      <td>0.848591</td>\n",
       "    </tr>\n",
       "    <tr>\n",
       "      <th>6</th>\n",
       "      <td>-0.053892</td>\n",
       "      <td>-0.426898</td>\n",
       "      <td>-0.309422</td>\n",
       "      <td>0.448815</td>\n",
       "    </tr>\n",
       "    <tr>\n",
       "      <th>7</th>\n",
       "      <td>-0.319998</td>\n",
       "      <td>-0.730562</td>\n",
       "      <td>0.894824</td>\n",
       "      <td>-2.061153</td>\n",
       "    </tr>\n",
       "    <tr>\n",
       "      <th>8</th>\n",
       "      <td>-0.222252</td>\n",
       "      <td>-1.060859</td>\n",
       "      <td>-1.220988</td>\n",
       "      <td>0.145869</td>\n",
       "    </tr>\n",
       "    <tr>\n",
       "      <th>9</th>\n",
       "      <td>0.260910</td>\n",
       "      <td>-0.145777</td>\n",
       "      <td>1.160061</td>\n",
       "      <td>-0.506256</td>\n",
       "    </tr>\n",
       "  </tbody>\n",
       "</table>\n",
       "</div>"
      ],
      "text/plain": [
       "          0         1         2         3\n",
       "0 -0.524182  0.921088  0.109704 -1.641461\n",
       "1 -1.396997 -0.262049 -1.021408  0.722611\n",
       "2  0.258444 -0.695070  0.550972 -0.436340\n",
       "3  0.492662  0.776347 -0.341992 -0.559708\n",
       "4  0.455072  0.701672  0.317695 -0.760406\n",
       "5 -1.050981 -0.421697 -0.659777  0.848591\n",
       "6 -0.053892 -0.426898 -0.309422  0.448815\n",
       "7 -0.319998 -0.730562  0.894824 -2.061153\n",
       "8 -0.222252 -1.060859 -1.220988  0.145869\n",
       "9  0.260910 -0.145777  1.160061 -0.506256"
      ]
     },
     "execution_count": 64,
     "metadata": {},
     "output_type": "execute_result"
    }
   ],
   "source": [
    "pd.concat(df2) # join all data of df2"
   ]
  },
  {
   "cell_type": "code",
   "execution_count": 74,
   "metadata": {},
   "outputs": [
    {
     "data": {
      "text/html": [
       "<div>\n",
       "<style scoped>\n",
       "    .dataframe tbody tr th:only-of-type {\n",
       "        vertical-align: middle;\n",
       "    }\n",
       "\n",
       "    .dataframe tbody tr th {\n",
       "        vertical-align: top;\n",
       "    }\n",
       "\n",
       "    .dataframe thead th {\n",
       "        text-align: right;\n",
       "    }\n",
       "</style>\n",
       "<table border=\"1\" class=\"dataframe\">\n",
       "  <thead>\n",
       "    <tr style=\"text-align: right;\">\n",
       "      <th></th>\n",
       "      <th>a</th>\n",
       "      <th>b</th>\n",
       "    </tr>\n",
       "  </thead>\n",
       "  <tbody>\n",
       "    <tr>\n",
       "      <th>k1</th>\n",
       "      <td>1</td>\n",
       "      <td>3</td>\n",
       "    </tr>\n",
       "    <tr>\n",
       "      <th>k2</th>\n",
       "      <td>2</td>\n",
       "      <td>4</td>\n",
       "    </tr>\n",
       "  </tbody>\n",
       "</table>\n",
       "</div>"
      ],
      "text/plain": [
       "    a  b\n",
       "k1  1  3\n",
       "k2  2  4"
      ]
     },
     "execution_count": 74,
     "metadata": {},
     "output_type": "execute_result"
    }
   ],
   "source": [
    "left = pd.DataFrame({'a':[1,2],'b':[3,4]},index=['k1','k2'])\n",
    "left"
   ]
  },
  {
   "cell_type": "code",
   "execution_count": 75,
   "metadata": {},
   "outputs": [
    {
     "data": {
      "text/html": [
       "<div>\n",
       "<style scoped>\n",
       "    .dataframe tbody tr th:only-of-type {\n",
       "        vertical-align: middle;\n",
       "    }\n",
       "\n",
       "    .dataframe tbody tr th {\n",
       "        vertical-align: top;\n",
       "    }\n",
       "\n",
       "    .dataframe thead th {\n",
       "        text-align: right;\n",
       "    }\n",
       "</style>\n",
       "<table border=\"1\" class=\"dataframe\">\n",
       "  <thead>\n",
       "    <tr style=\"text-align: right;\">\n",
       "      <th></th>\n",
       "      <th>a</th>\n",
       "      <th>f</th>\n",
       "    </tr>\n",
       "  </thead>\n",
       "  <tbody>\n",
       "    <tr>\n",
       "      <th>k3</th>\n",
       "      <td>3</td>\n",
       "      <td>2</td>\n",
       "    </tr>\n",
       "    <tr>\n",
       "      <th>k2</th>\n",
       "      <td>6</td>\n",
       "      <td>2</td>\n",
       "    </tr>\n",
       "  </tbody>\n",
       "</table>\n",
       "</div>"
      ],
      "text/plain": [
       "    a  f\n",
       "k3  3  2\n",
       "k2  6  2"
      ]
     },
     "execution_count": 75,
     "metadata": {},
     "output_type": "execute_result"
    }
   ],
   "source": [
    "right = pd.DataFrame({'a':[3,6],'f':[2,2]},index=['k3','k2'])\n",
    "right"
   ]
  },
  {
   "cell_type": "code",
   "execution_count": 76,
   "metadata": {},
   "outputs": [
    {
     "data": {
      "text/html": [
       "<div>\n",
       "<style scoped>\n",
       "    .dataframe tbody tr th:only-of-type {\n",
       "        vertical-align: middle;\n",
       "    }\n",
       "\n",
       "    .dataframe tbody tr th {\n",
       "        vertical-align: top;\n",
       "    }\n",
       "\n",
       "    .dataframe thead th {\n",
       "        text-align: right;\n",
       "    }\n",
       "</style>\n",
       "<table border=\"1\" class=\"dataframe\">\n",
       "  <thead>\n",
       "    <tr style=\"text-align: right;\">\n",
       "      <th></th>\n",
       "      <th>a</th>\n",
       "      <th>b</th>\n",
       "      <th>f</th>\n",
       "    </tr>\n",
       "  </thead>\n",
       "  <tbody>\n",
       "  </tbody>\n",
       "</table>\n",
       "</div>"
      ],
      "text/plain": [
       "Empty DataFrame\n",
       "Columns: [a, b, f]\n",
       "Index: []"
      ]
     },
     "execution_count": 76,
     "metadata": {},
     "output_type": "execute_result"
    }
   ],
   "source": [
    "left.merge(right,on = 'a',how ='inner')"
   ]
  },
  {
   "cell_type": "code",
   "execution_count": 77,
   "metadata": {},
   "outputs": [
    {
     "data": {
      "text/html": [
       "<div>\n",
       "<style scoped>\n",
       "    .dataframe tbody tr th:only-of-type {\n",
       "        vertical-align: middle;\n",
       "    }\n",
       "\n",
       "    .dataframe tbody tr th {\n",
       "        vertical-align: top;\n",
       "    }\n",
       "\n",
       "    .dataframe thead th {\n",
       "        text-align: right;\n",
       "    }\n",
       "</style>\n",
       "<table border=\"1\" class=\"dataframe\">\n",
       "  <thead>\n",
       "    <tr style=\"text-align: right;\">\n",
       "      <th></th>\n",
       "      <th>a</th>\n",
       "      <th>b</th>\n",
       "      <th>f</th>\n",
       "    </tr>\n",
       "  </thead>\n",
       "  <tbody>\n",
       "    <tr>\n",
       "      <th>0</th>\n",
       "      <td>1</td>\n",
       "      <td>3</td>\n",
       "      <td>NaN</td>\n",
       "    </tr>\n",
       "    <tr>\n",
       "      <th>1</th>\n",
       "      <td>2</td>\n",
       "      <td>4</td>\n",
       "      <td>NaN</td>\n",
       "    </tr>\n",
       "  </tbody>\n",
       "</table>\n",
       "</div>"
      ],
      "text/plain": [
       "   a  b   f\n",
       "0  1  3 NaN\n",
       "1  2  4 NaN"
      ]
     },
     "execution_count": 77,
     "metadata": {},
     "output_type": "execute_result"
    }
   ],
   "source": [
    "left.merge(right,on = 'a',how ='left')"
   ]
  },
  {
   "cell_type": "code",
   "execution_count": 78,
   "metadata": {},
   "outputs": [
    {
     "data": {
      "text/html": [
       "<div>\n",
       "<style scoped>\n",
       "    .dataframe tbody tr th:only-of-type {\n",
       "        vertical-align: middle;\n",
       "    }\n",
       "\n",
       "    .dataframe tbody tr th {\n",
       "        vertical-align: top;\n",
       "    }\n",
       "\n",
       "    .dataframe thead th {\n",
       "        text-align: right;\n",
       "    }\n",
       "</style>\n",
       "<table border=\"1\" class=\"dataframe\">\n",
       "  <thead>\n",
       "    <tr style=\"text-align: right;\">\n",
       "      <th></th>\n",
       "      <th>a</th>\n",
       "      <th>b</th>\n",
       "      <th>f</th>\n",
       "    </tr>\n",
       "  </thead>\n",
       "  <tbody>\n",
       "    <tr>\n",
       "      <th>0</th>\n",
       "      <td>3</td>\n",
       "      <td>NaN</td>\n",
       "      <td>2</td>\n",
       "    </tr>\n",
       "    <tr>\n",
       "      <th>1</th>\n",
       "      <td>6</td>\n",
       "      <td>NaN</td>\n",
       "      <td>2</td>\n",
       "    </tr>\n",
       "  </tbody>\n",
       "</table>\n",
       "</div>"
      ],
      "text/plain": [
       "   a   b  f\n",
       "0  3 NaN  2\n",
       "1  6 NaN  2"
      ]
     },
     "execution_count": 78,
     "metadata": {},
     "output_type": "execute_result"
    }
   ],
   "source": [
    "left.merge(right,on = 'a',how ='right')"
   ]
  },
  {
   "cell_type": "code",
   "execution_count": 79,
   "metadata": {},
   "outputs": [
    {
     "data": {
      "text/html": [
       "<div>\n",
       "<style scoped>\n",
       "    .dataframe tbody tr th:only-of-type {\n",
       "        vertical-align: middle;\n",
       "    }\n",
       "\n",
       "    .dataframe tbody tr th {\n",
       "        vertical-align: top;\n",
       "    }\n",
       "\n",
       "    .dataframe thead th {\n",
       "        text-align: right;\n",
       "    }\n",
       "</style>\n",
       "<table border=\"1\" class=\"dataframe\">\n",
       "  <thead>\n",
       "    <tr style=\"text-align: right;\">\n",
       "      <th></th>\n",
       "      <th>a</th>\n",
       "      <th>b</th>\n",
       "      <th>f</th>\n",
       "    </tr>\n",
       "  </thead>\n",
       "  <tbody>\n",
       "    <tr>\n",
       "      <th>0</th>\n",
       "      <td>1</td>\n",
       "      <td>3.0</td>\n",
       "      <td>NaN</td>\n",
       "    </tr>\n",
       "    <tr>\n",
       "      <th>1</th>\n",
       "      <td>2</td>\n",
       "      <td>4.0</td>\n",
       "      <td>NaN</td>\n",
       "    </tr>\n",
       "    <tr>\n",
       "      <th>2</th>\n",
       "      <td>3</td>\n",
       "      <td>NaN</td>\n",
       "      <td>2.0</td>\n",
       "    </tr>\n",
       "    <tr>\n",
       "      <th>3</th>\n",
       "      <td>6</td>\n",
       "      <td>NaN</td>\n",
       "      <td>2.0</td>\n",
       "    </tr>\n",
       "  </tbody>\n",
       "</table>\n",
       "</div>"
      ],
      "text/plain": [
       "   a    b    f\n",
       "0  1  3.0  NaN\n",
       "1  2  4.0  NaN\n",
       "2  3  NaN  2.0\n",
       "3  6  NaN  2.0"
      ]
     },
     "execution_count": 79,
     "metadata": {},
     "output_type": "execute_result"
    }
   ],
   "source": [
    "left.merge(right,on = 'a',how ='outer')"
   ]
  },
  {
   "cell_type": "code",
   "execution_count": 80,
   "metadata": {},
   "outputs": [
    {
     "data": {
      "text/plain": [
       "Index(['k1', 'k2'], dtype='object')"
      ]
     },
     "execution_count": 80,
     "metadata": {},
     "output_type": "execute_result"
    }
   ],
   "source": [
    "left.index"
   ]
  },
  {
   "cell_type": "code",
   "execution_count": 81,
   "metadata": {},
   "outputs": [
    {
     "data": {
      "text/plain": [
       "Index(['k3', 'k2'], dtype='object')"
      ]
     },
     "execution_count": 81,
     "metadata": {},
     "output_type": "execute_result"
    }
   ],
   "source": [
    "right.index"
   ]
  },
  {
   "cell_type": "code",
   "execution_count": 85,
   "metadata": {},
   "outputs": [
    {
     "data": {
      "text/html": [
       "<div>\n",
       "<style scoped>\n",
       "    .dataframe tbody tr th:only-of-type {\n",
       "        vertical-align: middle;\n",
       "    }\n",
       "\n",
       "    .dataframe tbody tr th {\n",
       "        vertical-align: top;\n",
       "    }\n",
       "\n",
       "    .dataframe thead th {\n",
       "        text-align: right;\n",
       "    }\n",
       "</style>\n",
       "<table border=\"1\" class=\"dataframe\">\n",
       "  <thead>\n",
       "    <tr style=\"text-align: right;\">\n",
       "      <th></th>\n",
       "      <th>e</th>\n",
       "      <th>f</th>\n",
       "    </tr>\n",
       "  </thead>\n",
       "  <tbody>\n",
       "    <tr>\n",
       "      <th>k3</th>\n",
       "      <td>3</td>\n",
       "      <td>2</td>\n",
       "    </tr>\n",
       "    <tr>\n",
       "      <th>k2</th>\n",
       "      <td>6</td>\n",
       "      <td>2</td>\n",
       "    </tr>\n",
       "  </tbody>\n",
       "</table>\n",
       "</div>"
      ],
      "text/plain": [
       "    e  f\n",
       "k3  3  2\n",
       "k2  6  2"
      ]
     },
     "execution_count": 85,
     "metadata": {},
     "output_type": "execute_result"
    }
   ],
   "source": [
    "right2 = pd.DataFrame({'e':[3,6],'f':[2,2]},index=['k3','k2'])\n",
    "right2"
   ]
  },
  {
   "cell_type": "code",
   "execution_count": 86,
   "metadata": {},
   "outputs": [
    {
     "data": {
      "text/html": [
       "<div>\n",
       "<style scoped>\n",
       "    .dataframe tbody tr th:only-of-type {\n",
       "        vertical-align: middle;\n",
       "    }\n",
       "\n",
       "    .dataframe tbody tr th {\n",
       "        vertical-align: top;\n",
       "    }\n",
       "\n",
       "    .dataframe thead th {\n",
       "        text-align: right;\n",
       "    }\n",
       "</style>\n",
       "<table border=\"1\" class=\"dataframe\">\n",
       "  <thead>\n",
       "    <tr style=\"text-align: right;\">\n",
       "      <th></th>\n",
       "      <th>a</th>\n",
       "      <th>b</th>\n",
       "    </tr>\n",
       "  </thead>\n",
       "  <tbody>\n",
       "    <tr>\n",
       "      <th>k1</th>\n",
       "      <td>1</td>\n",
       "      <td>3</td>\n",
       "    </tr>\n",
       "    <tr>\n",
       "      <th>k2</th>\n",
       "      <td>2</td>\n",
       "      <td>4</td>\n",
       "    </tr>\n",
       "  </tbody>\n",
       "</table>\n",
       "</div>"
      ],
      "text/plain": [
       "    a  b\n",
       "k1  1  3\n",
       "k2  2  4"
      ]
     },
     "execution_count": 86,
     "metadata": {},
     "output_type": "execute_result"
    }
   ],
   "source": [
    "left"
   ]
  },
  {
   "cell_type": "markdown",
   "metadata": {},
   "source": [
    "## Join"
   ]
  },
  {
   "cell_type": "code",
   "execution_count": 83,
   "metadata": {},
   "outputs": [
    {
     "data": {
      "text/html": [
       "<div>\n",
       "<style scoped>\n",
       "    .dataframe tbody tr th:only-of-type {\n",
       "        vertical-align: middle;\n",
       "    }\n",
       "\n",
       "    .dataframe tbody tr th {\n",
       "        vertical-align: top;\n",
       "    }\n",
       "\n",
       "    .dataframe thead th {\n",
       "        text-align: right;\n",
       "    }\n",
       "</style>\n",
       "<table border=\"1\" class=\"dataframe\">\n",
       "  <thead>\n",
       "    <tr style=\"text-align: right;\">\n",
       "      <th></th>\n",
       "      <th>a</th>\n",
       "      <th>b</th>\n",
       "      <th>e</th>\n",
       "      <th>f</th>\n",
       "    </tr>\n",
       "  </thead>\n",
       "  <tbody>\n",
       "    <tr>\n",
       "      <th>k2</th>\n",
       "      <td>2</td>\n",
       "      <td>4</td>\n",
       "      <td>6</td>\n",
       "      <td>2</td>\n",
       "    </tr>\n",
       "  </tbody>\n",
       "</table>\n",
       "</div>"
      ],
      "text/plain": [
       "    a  b  e  f\n",
       "k2  2  4  6  2"
      ]
     },
     "execution_count": 83,
     "metadata": {},
     "output_type": "execute_result"
    }
   ],
   "source": [
    "left.join(right2,how = 'inner')"
   ]
  },
  {
   "cell_type": "code",
   "execution_count": 87,
   "metadata": {},
   "outputs": [
    {
     "data": {
      "text/html": [
       "<div>\n",
       "<style scoped>\n",
       "    .dataframe tbody tr th:only-of-type {\n",
       "        vertical-align: middle;\n",
       "    }\n",
       "\n",
       "    .dataframe tbody tr th {\n",
       "        vertical-align: top;\n",
       "    }\n",
       "\n",
       "    .dataframe thead th {\n",
       "        text-align: right;\n",
       "    }\n",
       "</style>\n",
       "<table border=\"1\" class=\"dataframe\">\n",
       "  <thead>\n",
       "    <tr style=\"text-align: right;\">\n",
       "      <th></th>\n",
       "      <th>a</th>\n",
       "      <th>b</th>\n",
       "      <th>e</th>\n",
       "      <th>f</th>\n",
       "    </tr>\n",
       "  </thead>\n",
       "  <tbody>\n",
       "    <tr>\n",
       "      <th>k1</th>\n",
       "      <td>1</td>\n",
       "      <td>3</td>\n",
       "      <td>NaN</td>\n",
       "      <td>NaN</td>\n",
       "    </tr>\n",
       "    <tr>\n",
       "      <th>k2</th>\n",
       "      <td>2</td>\n",
       "      <td>4</td>\n",
       "      <td>6.0</td>\n",
       "      <td>2.0</td>\n",
       "    </tr>\n",
       "  </tbody>\n",
       "</table>\n",
       "</div>"
      ],
      "text/plain": [
       "    a  b    e    f\n",
       "k1  1  3  NaN  NaN\n",
       "k2  2  4  6.0  2.0"
      ]
     },
     "execution_count": 87,
     "metadata": {},
     "output_type": "execute_result"
    }
   ],
   "source": [
    "left.join(right2,how = 'left')"
   ]
  },
  {
   "cell_type": "code",
   "execution_count": 88,
   "metadata": {},
   "outputs": [
    {
     "data": {
      "text/html": [
       "<div>\n",
       "<style scoped>\n",
       "    .dataframe tbody tr th:only-of-type {\n",
       "        vertical-align: middle;\n",
       "    }\n",
       "\n",
       "    .dataframe tbody tr th {\n",
       "        vertical-align: top;\n",
       "    }\n",
       "\n",
       "    .dataframe thead th {\n",
       "        text-align: right;\n",
       "    }\n",
       "</style>\n",
       "<table border=\"1\" class=\"dataframe\">\n",
       "  <thead>\n",
       "    <tr style=\"text-align: right;\">\n",
       "      <th></th>\n",
       "      <th>a</th>\n",
       "      <th>b</th>\n",
       "      <th>e</th>\n",
       "      <th>f</th>\n",
       "    </tr>\n",
       "  </thead>\n",
       "  <tbody>\n",
       "    <tr>\n",
       "      <th>k3</th>\n",
       "      <td>NaN</td>\n",
       "      <td>NaN</td>\n",
       "      <td>3</td>\n",
       "      <td>2</td>\n",
       "    </tr>\n",
       "    <tr>\n",
       "      <th>k2</th>\n",
       "      <td>2.0</td>\n",
       "      <td>4.0</td>\n",
       "      <td>6</td>\n",
       "      <td>2</td>\n",
       "    </tr>\n",
       "  </tbody>\n",
       "</table>\n",
       "</div>"
      ],
      "text/plain": [
       "      a    b  e  f\n",
       "k3  NaN  NaN  3  2\n",
       "k2  2.0  4.0  6  2"
      ]
     },
     "execution_count": 88,
     "metadata": {},
     "output_type": "execute_result"
    }
   ],
   "source": [
    "left.join(right2,how = 'right')"
   ]
  },
  {
   "cell_type": "code",
   "execution_count": 89,
   "metadata": {},
   "outputs": [
    {
     "data": {
      "text/html": [
       "<div>\n",
       "<style scoped>\n",
       "    .dataframe tbody tr th:only-of-type {\n",
       "        vertical-align: middle;\n",
       "    }\n",
       "\n",
       "    .dataframe tbody tr th {\n",
       "        vertical-align: top;\n",
       "    }\n",
       "\n",
       "    .dataframe thead th {\n",
       "        text-align: right;\n",
       "    }\n",
       "</style>\n",
       "<table border=\"1\" class=\"dataframe\">\n",
       "  <thead>\n",
       "    <tr style=\"text-align: right;\">\n",
       "      <th></th>\n",
       "      <th>a</th>\n",
       "      <th>b</th>\n",
       "      <th>e</th>\n",
       "      <th>f</th>\n",
       "    </tr>\n",
       "  </thead>\n",
       "  <tbody>\n",
       "    <tr>\n",
       "      <th>k1</th>\n",
       "      <td>1.0</td>\n",
       "      <td>3.0</td>\n",
       "      <td>NaN</td>\n",
       "      <td>NaN</td>\n",
       "    </tr>\n",
       "    <tr>\n",
       "      <th>k2</th>\n",
       "      <td>2.0</td>\n",
       "      <td>4.0</td>\n",
       "      <td>6.0</td>\n",
       "      <td>2.0</td>\n",
       "    </tr>\n",
       "    <tr>\n",
       "      <th>k3</th>\n",
       "      <td>NaN</td>\n",
       "      <td>NaN</td>\n",
       "      <td>3.0</td>\n",
       "      <td>2.0</td>\n",
       "    </tr>\n",
       "  </tbody>\n",
       "</table>\n",
       "</div>"
      ],
      "text/plain": [
       "      a    b    e    f\n",
       "k1  1.0  3.0  NaN  NaN\n",
       "k2  2.0  4.0  6.0  2.0\n",
       "k3  NaN  NaN  3.0  2.0"
      ]
     },
     "execution_count": 89,
     "metadata": {},
     "output_type": "execute_result"
    }
   ],
   "source": [
    "left.join(right2,how = 'outer')"
   ]
  },
  {
   "cell_type": "code",
   "execution_count": 90,
   "metadata": {},
   "outputs": [
    {
     "data": {
      "text/html": [
       "<div>\n",
       "<style scoped>\n",
       "    .dataframe tbody tr th:only-of-type {\n",
       "        vertical-align: middle;\n",
       "    }\n",
       "\n",
       "    .dataframe tbody tr th {\n",
       "        vertical-align: top;\n",
       "    }\n",
       "\n",
       "    .dataframe thead th {\n",
       "        text-align: right;\n",
       "    }\n",
       "</style>\n",
       "<table border=\"1\" class=\"dataframe\">\n",
       "  <thead>\n",
       "    <tr style=\"text-align: right;\">\n",
       "      <th></th>\n",
       "      <th>A</th>\n",
       "      <th>B</th>\n",
       "      <th>C</th>\n",
       "      <th>D</th>\n",
       "    </tr>\n",
       "  </thead>\n",
       "  <tbody>\n",
       "    <tr>\n",
       "      <th>2020-05-25</th>\n",
       "      <td>0.991981</td>\n",
       "      <td>1.615888</td>\n",
       "      <td>-0.296997</td>\n",
       "      <td>-0.400111</td>\n",
       "    </tr>\n",
       "    <tr>\n",
       "      <th>2020-05-26</th>\n",
       "      <td>0.768326</td>\n",
       "      <td>0.300476</td>\n",
       "      <td>-1.553762</td>\n",
       "      <td>-0.224009</td>\n",
       "    </tr>\n",
       "    <tr>\n",
       "      <th>2020-05-27</th>\n",
       "      <td>-0.673708</td>\n",
       "      <td>0.141254</td>\n",
       "      <td>-0.729661</td>\n",
       "      <td>0.500395</td>\n",
       "    </tr>\n",
       "    <tr>\n",
       "      <th>2020-05-28</th>\n",
       "      <td>0.650358</td>\n",
       "      <td>0.283608</td>\n",
       "      <td>1.391745</td>\n",
       "      <td>-0.374394</td>\n",
       "    </tr>\n",
       "    <tr>\n",
       "      <th>2020-05-29</th>\n",
       "      <td>-0.763201</td>\n",
       "      <td>-0.845664</td>\n",
       "      <td>0.519668</td>\n",
       "      <td>0.876082</td>\n",
       "    </tr>\n",
       "    <tr>\n",
       "      <th>2020-05-30</th>\n",
       "      <td>-0.353572</td>\n",
       "      <td>-0.297080</td>\n",
       "      <td>0.258634</td>\n",
       "      <td>1.657337</td>\n",
       "    </tr>\n",
       "    <tr>\n",
       "      <th>2020-05-31</th>\n",
       "      <td>-0.323465</td>\n",
       "      <td>-1.044875</td>\n",
       "      <td>-1.189846</td>\n",
       "      <td>1.165950</td>\n",
       "    </tr>\n",
       "    <tr>\n",
       "      <th>2020-06-01</th>\n",
       "      <td>-1.030814</td>\n",
       "      <td>-0.133547</td>\n",
       "      <td>1.208483</td>\n",
       "      <td>0.018312</td>\n",
       "    </tr>\n",
       "    <tr>\n",
       "      <th>2020-06-02</th>\n",
       "      <td>0.692838</td>\n",
       "      <td>-0.621512</td>\n",
       "      <td>-0.177550</td>\n",
       "      <td>-0.728433</td>\n",
       "    </tr>\n",
       "    <tr>\n",
       "      <th>2020-06-03</th>\n",
       "      <td>0.938457</td>\n",
       "      <td>0.293652</td>\n",
       "      <td>-1.635967</td>\n",
       "      <td>0.157466</td>\n",
       "    </tr>\n",
       "  </tbody>\n",
       "</table>\n",
       "</div>"
      ],
      "text/plain": [
       "                   A         B         C         D\n",
       "2020-05-25  0.991981  1.615888 -0.296997 -0.400111\n",
       "2020-05-26  0.768326  0.300476 -1.553762 -0.224009\n",
       "2020-05-27 -0.673708  0.141254 -0.729661  0.500395\n",
       "2020-05-28  0.650358  0.283608  1.391745 -0.374394\n",
       "2020-05-29 -0.763201 -0.845664  0.519668  0.876082\n",
       "2020-05-30 -0.353572 -0.297080  0.258634  1.657337\n",
       "2020-05-31 -0.323465 -1.044875 -1.189846  1.165950\n",
       "2020-06-01 -1.030814 -0.133547  1.208483  0.018312\n",
       "2020-06-02  0.692838 -0.621512 -0.177550 -0.728433\n",
       "2020-06-03  0.938457  0.293652 -1.635967  0.157466"
      ]
     },
     "execution_count": 90,
     "metadata": {},
     "output_type": "execute_result"
    }
   ],
   "source": [
    "df"
   ]
  },
  {
   "cell_type": "code",
   "execution_count": 92,
   "metadata": {},
   "outputs": [
    {
     "data": {
      "text/html": [
       "<div>\n",
       "<style scoped>\n",
       "    .dataframe tbody tr th:only-of-type {\n",
       "        vertical-align: middle;\n",
       "    }\n",
       "\n",
       "    .dataframe tbody tr th {\n",
       "        vertical-align: top;\n",
       "    }\n",
       "\n",
       "    .dataframe thead th {\n",
       "        text-align: right;\n",
       "    }\n",
       "</style>\n",
       "<table border=\"1\" class=\"dataframe\">\n",
       "  <thead>\n",
       "    <tr style=\"text-align: right;\">\n",
       "      <th></th>\n",
       "      <th>B</th>\n",
       "      <th>C</th>\n",
       "      <th>D</th>\n",
       "    </tr>\n",
       "    <tr>\n",
       "      <th>A</th>\n",
       "      <th></th>\n",
       "      <th></th>\n",
       "      <th></th>\n",
       "    </tr>\n",
       "  </thead>\n",
       "  <tbody>\n",
       "    <tr>\n",
       "      <th>-1.030814</th>\n",
       "      <td>-0.133547</td>\n",
       "      <td>1.208483</td>\n",
       "      <td>0.018312</td>\n",
       "    </tr>\n",
       "    <tr>\n",
       "      <th>-0.763201</th>\n",
       "      <td>-0.845664</td>\n",
       "      <td>0.519668</td>\n",
       "      <td>0.876082</td>\n",
       "    </tr>\n",
       "    <tr>\n",
       "      <th>-0.673708</th>\n",
       "      <td>0.141254</td>\n",
       "      <td>-0.729661</td>\n",
       "      <td>0.500395</td>\n",
       "    </tr>\n",
       "    <tr>\n",
       "      <th>-0.353572</th>\n",
       "      <td>-0.297080</td>\n",
       "      <td>0.258634</td>\n",
       "      <td>1.657337</td>\n",
       "    </tr>\n",
       "    <tr>\n",
       "      <th>-0.323465</th>\n",
       "      <td>-1.044875</td>\n",
       "      <td>-1.189846</td>\n",
       "      <td>1.165950</td>\n",
       "    </tr>\n",
       "    <tr>\n",
       "      <th>0.650358</th>\n",
       "      <td>0.283608</td>\n",
       "      <td>1.391745</td>\n",
       "      <td>-0.374394</td>\n",
       "    </tr>\n",
       "    <tr>\n",
       "      <th>0.692838</th>\n",
       "      <td>-0.621512</td>\n",
       "      <td>-0.177550</td>\n",
       "      <td>-0.728433</td>\n",
       "    </tr>\n",
       "    <tr>\n",
       "      <th>0.768326</th>\n",
       "      <td>0.300476</td>\n",
       "      <td>-1.553762</td>\n",
       "      <td>-0.224009</td>\n",
       "    </tr>\n",
       "    <tr>\n",
       "      <th>0.938457</th>\n",
       "      <td>0.293652</td>\n",
       "      <td>-1.635967</td>\n",
       "      <td>0.157466</td>\n",
       "    </tr>\n",
       "    <tr>\n",
       "      <th>0.991981</th>\n",
       "      <td>1.615888</td>\n",
       "      <td>-0.296997</td>\n",
       "      <td>-0.400111</td>\n",
       "    </tr>\n",
       "  </tbody>\n",
       "</table>\n",
       "</div>"
      ],
      "text/plain": [
       "                  B         C         D\n",
       "A                                      \n",
       "-1.030814 -0.133547  1.208483  0.018312\n",
       "-0.763201 -0.845664  0.519668  0.876082\n",
       "-0.673708  0.141254 -0.729661  0.500395\n",
       "-0.353572 -0.297080  0.258634  1.657337\n",
       "-0.323465 -1.044875 -1.189846  1.165950\n",
       " 0.650358  0.283608  1.391745 -0.374394\n",
       " 0.692838 -0.621512 -0.177550 -0.728433\n",
       " 0.768326  0.300476 -1.553762 -0.224009\n",
       " 0.938457  0.293652 -1.635967  0.157466\n",
       " 0.991981  1.615888 -0.296997 -0.400111"
      ]
     },
     "execution_count": 92,
     "metadata": {},
     "output_type": "execute_result"
    }
   ],
   "source": [
    "df.groupby('A').sum() # grouping value acc to 'A'"
   ]
  },
  {
   "cell_type": "code",
   "execution_count": 93,
   "metadata": {},
   "outputs": [
    {
     "data": {
      "text/html": [
       "<div>\n",
       "<style scoped>\n",
       "    .dataframe tbody tr th:only-of-type {\n",
       "        vertical-align: middle;\n",
       "    }\n",
       "\n",
       "    .dataframe tbody tr th {\n",
       "        vertical-align: top;\n",
       "    }\n",
       "\n",
       "    .dataframe thead th {\n",
       "        text-align: right;\n",
       "    }\n",
       "</style>\n",
       "<table border=\"1\" class=\"dataframe\">\n",
       "  <thead>\n",
       "    <tr style=\"text-align: right;\">\n",
       "      <th></th>\n",
       "      <th>A</th>\n",
       "      <th>B</th>\n",
       "      <th>C</th>\n",
       "    </tr>\n",
       "    <tr>\n",
       "      <th>D</th>\n",
       "      <th></th>\n",
       "      <th></th>\n",
       "      <th></th>\n",
       "    </tr>\n",
       "  </thead>\n",
       "  <tbody>\n",
       "    <tr>\n",
       "      <th>-0.728433</th>\n",
       "      <td>0.692838</td>\n",
       "      <td>-0.621512</td>\n",
       "      <td>-0.177550</td>\n",
       "    </tr>\n",
       "    <tr>\n",
       "      <th>-0.400111</th>\n",
       "      <td>0.991981</td>\n",
       "      <td>1.615888</td>\n",
       "      <td>-0.296997</td>\n",
       "    </tr>\n",
       "    <tr>\n",
       "      <th>-0.374394</th>\n",
       "      <td>0.650358</td>\n",
       "      <td>0.283608</td>\n",
       "      <td>1.391745</td>\n",
       "    </tr>\n",
       "    <tr>\n",
       "      <th>-0.224009</th>\n",
       "      <td>0.768326</td>\n",
       "      <td>0.300476</td>\n",
       "      <td>-1.553762</td>\n",
       "    </tr>\n",
       "    <tr>\n",
       "      <th>0.018312</th>\n",
       "      <td>-1.030814</td>\n",
       "      <td>-0.133547</td>\n",
       "      <td>1.208483</td>\n",
       "    </tr>\n",
       "    <tr>\n",
       "      <th>0.157466</th>\n",
       "      <td>0.938457</td>\n",
       "      <td>0.293652</td>\n",
       "      <td>-1.635967</td>\n",
       "    </tr>\n",
       "    <tr>\n",
       "      <th>0.500395</th>\n",
       "      <td>-0.673708</td>\n",
       "      <td>0.141254</td>\n",
       "      <td>-0.729661</td>\n",
       "    </tr>\n",
       "    <tr>\n",
       "      <th>0.876082</th>\n",
       "      <td>-0.763201</td>\n",
       "      <td>-0.845664</td>\n",
       "      <td>0.519668</td>\n",
       "    </tr>\n",
       "    <tr>\n",
       "      <th>1.165950</th>\n",
       "      <td>-0.323465</td>\n",
       "      <td>-1.044875</td>\n",
       "      <td>-1.189846</td>\n",
       "    </tr>\n",
       "    <tr>\n",
       "      <th>1.657337</th>\n",
       "      <td>-0.353572</td>\n",
       "      <td>-0.297080</td>\n",
       "      <td>0.258634</td>\n",
       "    </tr>\n",
       "  </tbody>\n",
       "</table>\n",
       "</div>"
      ],
      "text/plain": [
       "                  A         B         C\n",
       "D                                      \n",
       "-0.728433  0.692838 -0.621512 -0.177550\n",
       "-0.400111  0.991981  1.615888 -0.296997\n",
       "-0.374394  0.650358  0.283608  1.391745\n",
       "-0.224009  0.768326  0.300476 -1.553762\n",
       " 0.018312 -1.030814 -0.133547  1.208483\n",
       " 0.157466  0.938457  0.293652 -1.635967\n",
       " 0.500395 -0.673708  0.141254 -0.729661\n",
       " 0.876082 -0.763201 -0.845664  0.519668\n",
       " 1.165950 -0.323465 -1.044875 -1.189846\n",
       " 1.657337 -0.353572 -0.297080  0.258634"
      ]
     },
     "execution_count": 93,
     "metadata": {},
     "output_type": "execute_result"
    }
   ],
   "source": [
    "df.groupby('D').sum()"
   ]
  },
  {
   "cell_type": "code",
   "execution_count": 94,
   "metadata": {},
   "outputs": [
    {
     "data": {
      "text/html": [
       "<div>\n",
       "<style scoped>\n",
       "    .dataframe tbody tr th:only-of-type {\n",
       "        vertical-align: middle;\n",
       "    }\n",
       "\n",
       "    .dataframe tbody tr th {\n",
       "        vertical-align: top;\n",
       "    }\n",
       "\n",
       "    .dataframe thead th {\n",
       "        text-align: right;\n",
       "    }\n",
       "</style>\n",
       "<table border=\"1\" class=\"dataframe\">\n",
       "  <thead>\n",
       "    <tr style=\"text-align: right;\">\n",
       "      <th></th>\n",
       "      <th></th>\n",
       "      <th>B</th>\n",
       "      <th>C</th>\n",
       "    </tr>\n",
       "    <tr>\n",
       "      <th>A</th>\n",
       "      <th>D</th>\n",
       "      <th></th>\n",
       "      <th></th>\n",
       "    </tr>\n",
       "  </thead>\n",
       "  <tbody>\n",
       "    <tr>\n",
       "      <th>-1.030814</th>\n",
       "      <th>0.018312</th>\n",
       "      <td>-0.133547</td>\n",
       "      <td>1.208483</td>\n",
       "    </tr>\n",
       "    <tr>\n",
       "      <th>-0.763201</th>\n",
       "      <th>0.876082</th>\n",
       "      <td>-0.845664</td>\n",
       "      <td>0.519668</td>\n",
       "    </tr>\n",
       "    <tr>\n",
       "      <th>-0.673708</th>\n",
       "      <th>0.500395</th>\n",
       "      <td>0.141254</td>\n",
       "      <td>-0.729661</td>\n",
       "    </tr>\n",
       "    <tr>\n",
       "      <th>-0.353572</th>\n",
       "      <th>1.657337</th>\n",
       "      <td>-0.297080</td>\n",
       "      <td>0.258634</td>\n",
       "    </tr>\n",
       "    <tr>\n",
       "      <th>-0.323465</th>\n",
       "      <th>1.165950</th>\n",
       "      <td>-1.044875</td>\n",
       "      <td>-1.189846</td>\n",
       "    </tr>\n",
       "    <tr>\n",
       "      <th>0.650358</th>\n",
       "      <th>-0.374394</th>\n",
       "      <td>0.283608</td>\n",
       "      <td>1.391745</td>\n",
       "    </tr>\n",
       "    <tr>\n",
       "      <th>0.692838</th>\n",
       "      <th>-0.728433</th>\n",
       "      <td>-0.621512</td>\n",
       "      <td>-0.177550</td>\n",
       "    </tr>\n",
       "    <tr>\n",
       "      <th>0.768326</th>\n",
       "      <th>-0.224009</th>\n",
       "      <td>0.300476</td>\n",
       "      <td>-1.553762</td>\n",
       "    </tr>\n",
       "    <tr>\n",
       "      <th>0.938457</th>\n",
       "      <th>0.157466</th>\n",
       "      <td>0.293652</td>\n",
       "      <td>-1.635967</td>\n",
       "    </tr>\n",
       "    <tr>\n",
       "      <th>0.991981</th>\n",
       "      <th>-0.400111</th>\n",
       "      <td>1.615888</td>\n",
       "      <td>-0.296997</td>\n",
       "    </tr>\n",
       "  </tbody>\n",
       "</table>\n",
       "</div>"
      ],
      "text/plain": [
       "                            B         C\n",
       "A         D                            \n",
       "-1.030814  0.018312 -0.133547  1.208483\n",
       "-0.763201  0.876082 -0.845664  0.519668\n",
       "-0.673708  0.500395  0.141254 -0.729661\n",
       "-0.353572  1.657337 -0.297080  0.258634\n",
       "-0.323465  1.165950 -1.044875 -1.189846\n",
       " 0.650358 -0.374394  0.283608  1.391745\n",
       " 0.692838 -0.728433 -0.621512 -0.177550\n",
       " 0.768326 -0.224009  0.300476 -1.553762\n",
       " 0.938457  0.157466  0.293652 -1.635967\n",
       " 0.991981 -0.400111  1.615888 -0.296997"
      ]
     },
     "execution_count": 94,
     "metadata": {},
     "output_type": "execute_result"
    }
   ],
   "source": [
    "df.groupby(['A','D']).sum()"
   ]
  },
  {
   "cell_type": "markdown",
   "metadata": {},
   "source": [
    "## Reshaping the data\n",
    "\n",
    "### stack & pivot table"
   ]
  },
  {
   "cell_type": "code",
   "execution_count": 95,
   "metadata": {},
   "outputs": [
    {
     "data": {
      "text/plain": [
       "[(1, 9), (2, 10), (3, 11), (4, 12), (5, 13), (6, 14), (7, 15), (8, 16)]"
      ]
     },
     "execution_count": 95,
     "metadata": {},
     "output_type": "execute_result"
    }
   ],
   "source": [
    "# perform multiindexing\n",
    "\n",
    "my_tuple = list(zip(*[[1,2,3,4,5,6,7,8],[9,10,11,12,13,14,15,16]]))  # create index values\n",
    "my_tuple"
   ]
  },
  {
   "cell_type": "code",
   "execution_count": 96,
   "metadata": {},
   "outputs": [
    {
     "data": {
      "text/plain": [
       "MultiIndex([(1,  9),\n",
       "            (2, 10),\n",
       "            (3, 11),\n",
       "            (4, 12),\n",
       "            (5, 13),\n",
       "            (6, 14),\n",
       "            (7, 15),\n",
       "            (8, 16)],\n",
       "           names=['I', 'II'])"
      ]
     },
     "execution_count": 96,
     "metadata": {},
     "output_type": "execute_result"
    }
   ],
   "source": [
    "index = pd.MultiIndex.from_tuples(my_tuple,names = ['I','II']) # name the index values\n",
    "index"
   ]
  },
  {
   "cell_type": "code",
   "execution_count": 98,
   "metadata": {},
   "outputs": [
    {
     "data": {
      "text/html": [
       "<div>\n",
       "<style scoped>\n",
       "    .dataframe tbody tr th:only-of-type {\n",
       "        vertical-align: middle;\n",
       "    }\n",
       "\n",
       "    .dataframe tbody tr th {\n",
       "        vertical-align: top;\n",
       "    }\n",
       "\n",
       "    .dataframe thead th {\n",
       "        text-align: right;\n",
       "    }\n",
       "</style>\n",
       "<table border=\"1\" class=\"dataframe\">\n",
       "  <thead>\n",
       "    <tr style=\"text-align: right;\">\n",
       "      <th></th>\n",
       "      <th></th>\n",
       "      <th>A</th>\n",
       "      <th>B</th>\n",
       "    </tr>\n",
       "    <tr>\n",
       "      <th>I</th>\n",
       "      <th>II</th>\n",
       "      <th></th>\n",
       "      <th></th>\n",
       "    </tr>\n",
       "  </thead>\n",
       "  <tbody>\n",
       "    <tr>\n",
       "      <th>1</th>\n",
       "      <th>9</th>\n",
       "      <td>0.293806</td>\n",
       "      <td>-1.513509</td>\n",
       "    </tr>\n",
       "    <tr>\n",
       "      <th>2</th>\n",
       "      <th>10</th>\n",
       "      <td>-0.792851</td>\n",
       "      <td>0.258148</td>\n",
       "    </tr>\n",
       "    <tr>\n",
       "      <th>3</th>\n",
       "      <th>11</th>\n",
       "      <td>0.798882</td>\n",
       "      <td>2.006009</td>\n",
       "    </tr>\n",
       "    <tr>\n",
       "      <th>4</th>\n",
       "      <th>12</th>\n",
       "      <td>-0.957366</td>\n",
       "      <td>-0.922992</td>\n",
       "    </tr>\n",
       "    <tr>\n",
       "      <th>5</th>\n",
       "      <th>13</th>\n",
       "      <td>-0.814250</td>\n",
       "      <td>-0.195453</td>\n",
       "    </tr>\n",
       "    <tr>\n",
       "      <th>6</th>\n",
       "      <th>14</th>\n",
       "      <td>0.449884</td>\n",
       "      <td>0.445039</td>\n",
       "    </tr>\n",
       "    <tr>\n",
       "      <th>7</th>\n",
       "      <th>15</th>\n",
       "      <td>-0.889170</td>\n",
       "      <td>-0.132681</td>\n",
       "    </tr>\n",
       "    <tr>\n",
       "      <th>8</th>\n",
       "      <th>16</th>\n",
       "      <td>-0.124617</td>\n",
       "      <td>0.737797</td>\n",
       "    </tr>\n",
       "  </tbody>\n",
       "</table>\n",
       "</div>"
      ],
      "text/plain": [
       "             A         B\n",
       "I II                    \n",
       "1 9   0.293806 -1.513509\n",
       "2 10 -0.792851  0.258148\n",
       "3 11  0.798882  2.006009\n",
       "4 12 -0.957366 -0.922992\n",
       "5 13 -0.814250 -0.195453\n",
       "6 14  0.449884  0.445039\n",
       "7 15 -0.889170 -0.132681\n",
       "8 16 -0.124617  0.737797"
      ]
     },
     "execution_count": 98,
     "metadata": {},
     "output_type": "execute_result"
    }
   ],
   "source": [
    "df3 = pd.DataFrame(np.random.randn(8,2),index = index, columns = ['A','B']) # create df\n",
    "df3"
   ]
  },
  {
   "cell_type": "code",
   "execution_count": 101,
   "metadata": {},
   "outputs": [
    {
     "data": {
      "text/html": [
       "<div>\n",
       "<style scoped>\n",
       "    .dataframe tbody tr th:only-of-type {\n",
       "        vertical-align: middle;\n",
       "    }\n",
       "\n",
       "    .dataframe tbody tr th {\n",
       "        vertical-align: top;\n",
       "    }\n",
       "\n",
       "    .dataframe thead th {\n",
       "        text-align: right;\n",
       "    }\n",
       "</style>\n",
       "<table border=\"1\" class=\"dataframe\">\n",
       "  <thead>\n",
       "    <tr style=\"text-align: right;\">\n",
       "      <th></th>\n",
       "      <th></th>\n",
       "      <th>A</th>\n",
       "      <th>B</th>\n",
       "    </tr>\n",
       "    <tr>\n",
       "      <th>I</th>\n",
       "      <th>II</th>\n",
       "      <th></th>\n",
       "      <th></th>\n",
       "    </tr>\n",
       "  </thead>\n",
       "  <tbody>\n",
       "    <tr>\n",
       "      <th>1</th>\n",
       "      <th>9</th>\n",
       "      <td>0.293806</td>\n",
       "      <td>-1.513509</td>\n",
       "    </tr>\n",
       "    <tr>\n",
       "      <th>2</th>\n",
       "      <th>10</th>\n",
       "      <td>-0.792851</td>\n",
       "      <td>0.258148</td>\n",
       "    </tr>\n",
       "    <tr>\n",
       "      <th>3</th>\n",
       "      <th>11</th>\n",
       "      <td>0.798882</td>\n",
       "      <td>2.006009</td>\n",
       "    </tr>\n",
       "    <tr>\n",
       "      <th>4</th>\n",
       "      <th>12</th>\n",
       "      <td>-0.957366</td>\n",
       "      <td>-0.922992</td>\n",
       "    </tr>\n",
       "  </tbody>\n",
       "</table>\n",
       "</div>"
      ],
      "text/plain": [
       "             A         B\n",
       "I II                    \n",
       "1 9   0.293806 -1.513509\n",
       "2 10 -0.792851  0.258148\n",
       "3 11  0.798882  2.006009\n",
       "4 12 -0.957366 -0.922992"
      ]
     },
     "execution_count": 101,
     "metadata": {},
     "output_type": "execute_result"
    }
   ],
   "source": [
    "df4 = df3[:4]\n",
    "df4"
   ]
  },
  {
   "cell_type": "code",
   "execution_count": 103,
   "metadata": {},
   "outputs": [
    {
     "data": {
      "text/html": [
       "<div>\n",
       "<style scoped>\n",
       "    .dataframe tbody tr th:only-of-type {\n",
       "        vertical-align: middle;\n",
       "    }\n",
       "\n",
       "    .dataframe tbody tr th {\n",
       "        vertical-align: top;\n",
       "    }\n",
       "\n",
       "    .dataframe thead th {\n",
       "        text-align: right;\n",
       "    }\n",
       "</style>\n",
       "<table border=\"1\" class=\"dataframe\">\n",
       "  <thead>\n",
       "    <tr style=\"text-align: right;\">\n",
       "      <th></th>\n",
       "      <th></th>\n",
       "      <th>val1</th>\n",
       "      <th>val2</th>\n",
       "      <th>val3</th>\n",
       "    </tr>\n",
       "    <tr>\n",
       "      <th>FullName</th>\n",
       "      <th>FirstLetter</th>\n",
       "      <th></th>\n",
       "      <th></th>\n",
       "      <th></th>\n",
       "    </tr>\n",
       "  </thead>\n",
       "  <tbody>\n",
       "    <tr>\n",
       "      <th>Neha</th>\n",
       "      <th>n</th>\n",
       "      <td>-1.372552</td>\n",
       "      <td>0.693284</td>\n",
       "      <td>-1.715673</td>\n",
       "    </tr>\n",
       "    <tr>\n",
       "      <th>Sneha</th>\n",
       "      <th>s</th>\n",
       "      <td>-0.459924</td>\n",
       "      <td>0.597233</td>\n",
       "      <td>-0.848712</td>\n",
       "    </tr>\n",
       "    <tr>\n",
       "      <th>Ankit</th>\n",
       "      <th>a</th>\n",
       "      <td>0.163820</td>\n",
       "      <td>0.806354</td>\n",
       "      <td>-0.380546</td>\n",
       "    </tr>\n",
       "  </tbody>\n",
       "</table>\n",
       "</div>"
      ],
      "text/plain": [
       "                          val1      val2      val3\n",
       "FullName FirstLetter                              \n",
       "Neha     n           -1.372552  0.693284 -1.715673\n",
       "Sneha    s           -0.459924  0.597233 -0.848712\n",
       "Ankit    a            0.163820  0.806354 -0.380546"
      ]
     },
     "execution_count": 103,
     "metadata": {},
     "output_type": "execute_result"
    }
   ],
   "source": [
    "my_tuple2 = list(zip(*[['Neha','Sneha','Ankit'],['n','s','a']]))\n",
    "ind = pd.MultiIndex.from_tuples(my_tuple2,names = ['FullName','FirstLetter'])\n",
    "df0 = pd.DataFrame(np.random.randn(3,3),index = ind,columns = ['val1','val2','val3'])\n",
    "df0"
   ]
  },
  {
   "cell_type": "code",
   "execution_count": 106,
   "metadata": {},
   "outputs": [
    {
     "data": {
      "text/html": [
       "<div>\n",
       "<style scoped>\n",
       "    .dataframe tbody tr th:only-of-type {\n",
       "        vertical-align: middle;\n",
       "    }\n",
       "\n",
       "    .dataframe tbody tr th {\n",
       "        vertical-align: top;\n",
       "    }\n",
       "\n",
       "    .dataframe thead th {\n",
       "        text-align: right;\n",
       "    }\n",
       "</style>\n",
       "<table border=\"1\" class=\"dataframe\">\n",
       "  <thead>\n",
       "    <tr style=\"text-align: right;\">\n",
       "      <th></th>\n",
       "      <th></th>\n",
       "      <th>val1</th>\n",
       "      <th>val2</th>\n",
       "      <th>val3</th>\n",
       "    </tr>\n",
       "    <tr>\n",
       "      <th>FullName</th>\n",
       "      <th>FirstLetter</th>\n",
       "      <th></th>\n",
       "      <th></th>\n",
       "      <th></th>\n",
       "    </tr>\n",
       "  </thead>\n",
       "  <tbody>\n",
       "    <tr>\n",
       "      <th>Sneha</th>\n",
       "      <th>s</th>\n",
       "      <td>-0.459924</td>\n",
       "      <td>0.597233</td>\n",
       "      <td>-0.848712</td>\n",
       "    </tr>\n",
       "  </tbody>\n",
       "</table>\n",
       "</div>"
      ],
      "text/plain": [
       "                          val1      val2      val3\n",
       "FullName FirstLetter                              \n",
       "Sneha    s           -0.459924  0.597233 -0.848712"
      ]
     },
     "execution_count": 106,
     "metadata": {},
     "output_type": "execute_result"
    }
   ],
   "source": [
    "df00 = df0[1:2]\n",
    "df00"
   ]
  },
  {
   "cell_type": "code",
   "execution_count": 111,
   "metadata": {},
   "outputs": [
    {
     "data": {
      "text/plain": [
       "I  II   \n",
       "1  9   A    0.293806\n",
       "       B   -1.513509\n",
       "2  10  A   -0.792851\n",
       "       B    0.258148\n",
       "3  11  A    0.798882\n",
       "       B    2.006009\n",
       "4  12  A   -0.957366\n",
       "       B   -0.922992\n",
       "dtype: float64"
      ]
     },
     "execution_count": 111,
     "metadata": {},
     "output_type": "execute_result"
    }
   ],
   "source": [
    "# stacking\n",
    "\n",
    "x = df4.stack() # compress df column\n",
    "x"
   ]
  },
  {
   "cell_type": "code",
   "execution_count": 112,
   "metadata": {},
   "outputs": [
    {
     "data": {
      "text/plain": [
       "FullName  FirstLetter      \n",
       "Neha      n            val1   -1.372552\n",
       "                       val2    0.693284\n",
       "                       val3   -1.715673\n",
       "Sneha     s            val1   -0.459924\n",
       "                       val2    0.597233\n",
       "                       val3   -0.848712\n",
       "Ankit     a            val1    0.163820\n",
       "                       val2    0.806354\n",
       "                       val3   -0.380546\n",
       "dtype: float64"
      ]
     },
     "execution_count": 112,
     "metadata": {},
     "output_type": "execute_result"
    }
   ],
   "source": [
    "df0.stack()"
   ]
  },
  {
   "cell_type": "code",
   "execution_count": 113,
   "metadata": {},
   "outputs": [
    {
     "data": {
      "text/html": [
       "<div>\n",
       "<style scoped>\n",
       "    .dataframe tbody tr th:only-of-type {\n",
       "        vertical-align: middle;\n",
       "    }\n",
       "\n",
       "    .dataframe tbody tr th {\n",
       "        vertical-align: top;\n",
       "    }\n",
       "\n",
       "    .dataframe thead th {\n",
       "        text-align: right;\n",
       "    }\n",
       "</style>\n",
       "<table border=\"1\" class=\"dataframe\">\n",
       "  <thead>\n",
       "    <tr style=\"text-align: right;\">\n",
       "      <th></th>\n",
       "      <th></th>\n",
       "      <th>A</th>\n",
       "      <th>B</th>\n",
       "    </tr>\n",
       "    <tr>\n",
       "      <th>I</th>\n",
       "      <th>II</th>\n",
       "      <th></th>\n",
       "      <th></th>\n",
       "    </tr>\n",
       "  </thead>\n",
       "  <tbody>\n",
       "    <tr>\n",
       "      <th>1</th>\n",
       "      <th>9</th>\n",
       "      <td>0.293806</td>\n",
       "      <td>-1.513509</td>\n",
       "    </tr>\n",
       "    <tr>\n",
       "      <th>2</th>\n",
       "      <th>10</th>\n",
       "      <td>-0.792851</td>\n",
       "      <td>0.258148</td>\n",
       "    </tr>\n",
       "    <tr>\n",
       "      <th>3</th>\n",
       "      <th>11</th>\n",
       "      <td>0.798882</td>\n",
       "      <td>2.006009</td>\n",
       "    </tr>\n",
       "    <tr>\n",
       "      <th>4</th>\n",
       "      <th>12</th>\n",
       "      <td>-0.957366</td>\n",
       "      <td>-0.922992</td>\n",
       "    </tr>\n",
       "  </tbody>\n",
       "</table>\n",
       "</div>"
      ],
      "text/plain": [
       "             A         B\n",
       "I II                    \n",
       "1 9   0.293806 -1.513509\n",
       "2 10 -0.792851  0.258148\n",
       "3 11  0.798882  2.006009\n",
       "4 12 -0.957366 -0.922992"
      ]
     },
     "execution_count": 113,
     "metadata": {},
     "output_type": "execute_result"
    }
   ],
   "source": [
    "x.unstack()   # reverse of stack"
   ]
  },
  {
   "cell_type": "code",
   "execution_count": null,
   "metadata": {},
   "outputs": [],
   "source": []
  }
 ],
 "metadata": {
  "kernelspec": {
   "display_name": "Python 3",
   "language": "python",
   "name": "python3"
  },
  "language_info": {
   "codemirror_mode": {
    "name": "ipython",
    "version": 3
   },
   "file_extension": ".py",
   "mimetype": "text/x-python",
   "name": "python",
   "nbconvert_exporter": "python",
   "pygments_lexer": "ipython3",
   "version": "3.7.5"
  }
 },
 "nbformat": 4,
 "nbformat_minor": 4
}
